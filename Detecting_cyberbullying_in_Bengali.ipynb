{
  "cells": [
    {
      "cell_type": "code",
      "execution_count": 1,
      "metadata": {
        "colab": {
          "base_uri": "https://localhost:8080/"
        },
        "id": "ZziR4fO_exd9",
        "outputId": "e1f61c64-6fb6-4dec-df2c-507cf3415832"
      },
      "outputs": [
        {
          "output_type": "stream",
          "name": "stdout",
          "text": [
            "Mounted at /content/drive\n"
          ]
        }
      ],
      "source": [
        "from google.colab import drive\n",
        "drive.mount('/content/drive')"
      ]
    },
    {
      "cell_type": "code",
      "execution_count": 2,
      "metadata": {
        "colab": {
          "base_uri": "https://localhost:8080/"
        },
        "id": "EW7jkiS27q7F",
        "outputId": "f33629f7-9757-4a78-8ecb-82fe9b9fe4f3"
      },
      "outputs": [
        {
          "output_type": "stream",
          "name": "stdout",
          "text": [
            "Looking in indexes: https://pypi.org/simple, https://us-python.pkg.dev/colab-wheels/public/simple/\n",
            "Collecting bnlp_toolkit\n",
            "  Downloading bnlp_toolkit-3.2.0-py3-none-any.whl (19 kB)\n",
            "Collecting sklearn-crfsuite\n",
            "  Downloading sklearn_crfsuite-0.3.6-py2.py3-none-any.whl (12 kB)\n",
            "Requirement already satisfied: wasabi in /usr/local/lib/python3.8/dist-packages (from bnlp_toolkit) (0.10.1)\n",
            "Collecting gensim==4.0.1\n",
            "  Downloading gensim-4.0.1-cp38-cp38-manylinux1_x86_64.whl (23.9 MB)\n",
            "\u001b[2K     \u001b[90m━━━━━━━━━━━━━━━━━━━━━━━━━━━━━━━━━━━━━━━━\u001b[0m \u001b[32m23.9/23.9 MB\u001b[0m \u001b[31m57.3 MB/s\u001b[0m eta \u001b[36m0:00:00\u001b[0m\n",
            "\u001b[?25hRequirement already satisfied: nltk in /usr/local/lib/python3.8/dist-packages (from bnlp_toolkit) (3.7)\n",
            "Requirement already satisfied: numpy in /usr/local/lib/python3.8/dist-packages (from bnlp_toolkit) (1.21.6)\n",
            "Requirement already satisfied: scipy in /usr/local/lib/python3.8/dist-packages (from bnlp_toolkit) (1.7.3)\n",
            "Collecting sentencepiece\n",
            "  Downloading sentencepiece-0.1.97-cp38-cp38-manylinux_2_17_x86_64.manylinux2014_x86_64.whl (1.3 MB)\n",
            "\u001b[2K     \u001b[90m━━━━━━━━━━━━━━━━━━━━━━━━━━━━━━━━━━━━━━━━\u001b[0m \u001b[32m1.3/1.3 MB\u001b[0m \u001b[31m70.2 MB/s\u001b[0m eta \u001b[36m0:00:00\u001b[0m\n",
            "\u001b[?25hRequirement already satisfied: tqdm in /usr/local/lib/python3.8/dist-packages (from bnlp_toolkit) (4.64.1)\n",
            "Requirement already satisfied: smart-open>=1.8.1 in /usr/local/lib/python3.8/dist-packages (from gensim==4.0.1->bnlp_toolkit) (6.3.0)\n",
            "Requirement already satisfied: joblib in /usr/local/lib/python3.8/dist-packages (from nltk->bnlp_toolkit) (1.2.0)\n",
            "Requirement already satisfied: regex>=2021.8.3 in /usr/local/lib/python3.8/dist-packages (from nltk->bnlp_toolkit) (2022.6.2)\n",
            "Requirement already satisfied: click in /usr/local/lib/python3.8/dist-packages (from nltk->bnlp_toolkit) (7.1.2)\n",
            "Requirement already satisfied: six in /usr/local/lib/python3.8/dist-packages (from sklearn-crfsuite->bnlp_toolkit) (1.15.0)\n",
            "Collecting python-crfsuite>=0.8.3\n",
            "  Downloading python_crfsuite-0.9.9-cp38-cp38-manylinux_2_17_x86_64.manylinux2014_x86_64.whl (1.0 MB)\n",
            "\u001b[2K     \u001b[90m━━━━━━━━━━━━━━━━━━━━━━━━━━━━━━━━━━━━━━━━\u001b[0m \u001b[32m1.0/1.0 MB\u001b[0m \u001b[31m66.8 MB/s\u001b[0m eta \u001b[36m0:00:00\u001b[0m\n",
            "\u001b[?25hRequirement already satisfied: tabulate in /usr/local/lib/python3.8/dist-packages (from sklearn-crfsuite->bnlp_toolkit) (0.8.10)\n",
            "Installing collected packages: sentencepiece, python-crfsuite, sklearn-crfsuite, gensim, bnlp_toolkit\n",
            "  Attempting uninstall: gensim\n",
            "    Found existing installation: gensim 3.6.0\n",
            "    Uninstalling gensim-3.6.0:\n",
            "      Successfully uninstalled gensim-3.6.0\n",
            "Successfully installed bnlp_toolkit-3.2.0 gensim-4.0.1 python-crfsuite-0.9.9 sentencepiece-0.1.97 sklearn-crfsuite-0.3.6\n"
          ]
        }
      ],
      "source": [
        "!pip install bnlp_toolkit"
      ]
    },
    {
      "cell_type": "code",
      "execution_count": 15,
      "metadata": {
        "id": "ovR-0TlNfnLZ"
      },
      "outputs": [],
      "source": [
        "import numpy as np \n",
        "import pandas as pd \n",
        "import matplotlib.pyplot as plt\n",
        "import seaborn as sns\n",
        "from sklearn.model_selection import train_test_split, GridSearchCV\n",
        "from sklearn.feature_extraction.text import TfidfVectorizer\n",
        "from sklearn.metrics import f1_score, accuracy_score, precision_score, recall_score, make_scorer\n",
        "from time import time\n",
        "from bnlp.corpus import stopwords\n",
        "from bnlp.corpus.util import remove_stopwords\n",
        "from sklearn import metrics\n",
        "from sklearn.metrics import roc_curve, roc_auc_score\n",
        "from sklearn.preprocessing import StandardScaler\n",
        "from sklearn.decomposition import PCA\n",
        " \n",
        "#plt.style.use('ggplot')\n",
        "\n",
        "from sklearn.naive_bayes import MultinomialNB\n",
        "from sklearn.tree import DecisionTreeClassifier\n",
        "from sklearn.ensemble import RandomForestClassifier\n",
        "from sklearn.linear_model import LogisticRegression\n",
        "from sklearn.neighbors import KNeighborsClassifier\n",
        "import joblib"
      ]
    },
    {
      "cell_type": "code",
      "execution_count": 16,
      "metadata": {
        "id": "YKgNyo1Vfz5W",
        "colab": {
          "base_uri": "https://localhost:8080/",
          "height": 206
        },
        "outputId": "4b3f1ddf-8f28-4d9a-84cd-4fb39ec3f5bc"
      },
      "outputs": [
        {
          "output_type": "execute_result",
          "data": {
            "text/plain": [
              "   Unnamed: 0                                               text    label  \\\n",
              "0           0  অবিশ^াস্য কিন্তু সত্য। প্রাচীনকালে হিন্দু মালা...  Hateful   \n",
              "1           1  আজ বিশ^ হাড়কিপটা দিবস, উইশ করুন আপনার সেই কিপ্...  Neutral   \n",
              "2           2            চীনকে চিনে নিতে ৭২ ঘন্টা সময় চায় ভারত।   Hateful   \n",
              "3           3  আমারে নিবা মাঝি লগে? ব্রীজ হইছে, ব্রীজ দিয়া যা।    Neutral   \n",
              "4           4   বাম আর নাস্তিক আজ আওয়ামীলীগের পিঠে সওয়ার হয়েছে।   Hateful   \n",
              "\n",
              "   target  \n",
              "0       1  \n",
              "1       0  \n",
              "2       1  \n",
              "3       0  \n",
              "4       1  "
            ],
            "text/html": [
              "\n",
              "  <div id=\"df-a15cff22-be43-4bcd-b247-947fbfc8d072\">\n",
              "    <div class=\"colab-df-container\">\n",
              "      <div>\n",
              "<style scoped>\n",
              "    .dataframe tbody tr th:only-of-type {\n",
              "        vertical-align: middle;\n",
              "    }\n",
              "\n",
              "    .dataframe tbody tr th {\n",
              "        vertical-align: top;\n",
              "    }\n",
              "\n",
              "    .dataframe thead th {\n",
              "        text-align: right;\n",
              "    }\n",
              "</style>\n",
              "<table border=\"1\" class=\"dataframe\">\n",
              "  <thead>\n",
              "    <tr style=\"text-align: right;\">\n",
              "      <th></th>\n",
              "      <th>Unnamed: 0</th>\n",
              "      <th>text</th>\n",
              "      <th>label</th>\n",
              "      <th>target</th>\n",
              "    </tr>\n",
              "  </thead>\n",
              "  <tbody>\n",
              "    <tr>\n",
              "      <th>0</th>\n",
              "      <td>0</td>\n",
              "      <td>অবিশ^াস্য কিন্তু সত্য। প্রাচীনকালে হিন্দু মালা...</td>\n",
              "      <td>Hateful</td>\n",
              "      <td>1</td>\n",
              "    </tr>\n",
              "    <tr>\n",
              "      <th>1</th>\n",
              "      <td>1</td>\n",
              "      <td>আজ বিশ^ হাড়কিপটা দিবস, উইশ করুন আপনার সেই কিপ্...</td>\n",
              "      <td>Neutral</td>\n",
              "      <td>0</td>\n",
              "    </tr>\n",
              "    <tr>\n",
              "      <th>2</th>\n",
              "      <td>2</td>\n",
              "      <td>চীনকে চিনে নিতে ৭২ ঘন্টা সময় চায় ভারত।</td>\n",
              "      <td>Hateful</td>\n",
              "      <td>1</td>\n",
              "    </tr>\n",
              "    <tr>\n",
              "      <th>3</th>\n",
              "      <td>3</td>\n",
              "      <td>আমারে নিবা মাঝি লগে? ব্রীজ হইছে, ব্রীজ দিয়া যা।</td>\n",
              "      <td>Neutral</td>\n",
              "      <td>0</td>\n",
              "    </tr>\n",
              "    <tr>\n",
              "      <th>4</th>\n",
              "      <td>4</td>\n",
              "      <td>বাম আর নাস্তিক আজ আওয়ামীলীগের পিঠে সওয়ার হয়েছে।</td>\n",
              "      <td>Hateful</td>\n",
              "      <td>1</td>\n",
              "    </tr>\n",
              "  </tbody>\n",
              "</table>\n",
              "</div>\n",
              "      <button class=\"colab-df-convert\" onclick=\"convertToInteractive('df-a15cff22-be43-4bcd-b247-947fbfc8d072')\"\n",
              "              title=\"Convert this dataframe to an interactive table.\"\n",
              "              style=\"display:none;\">\n",
              "        \n",
              "  <svg xmlns=\"http://www.w3.org/2000/svg\" height=\"24px\"viewBox=\"0 0 24 24\"\n",
              "       width=\"24px\">\n",
              "    <path d=\"M0 0h24v24H0V0z\" fill=\"none\"/>\n",
              "    <path d=\"M18.56 5.44l.94 2.06.94-2.06 2.06-.94-2.06-.94-.94-2.06-.94 2.06-2.06.94zm-11 1L8.5 8.5l.94-2.06 2.06-.94-2.06-.94L8.5 2.5l-.94 2.06-2.06.94zm10 10l.94 2.06.94-2.06 2.06-.94-2.06-.94-.94-2.06-.94 2.06-2.06.94z\"/><path d=\"M17.41 7.96l-1.37-1.37c-.4-.4-.92-.59-1.43-.59-.52 0-1.04.2-1.43.59L10.3 9.45l-7.72 7.72c-.78.78-.78 2.05 0 2.83L4 21.41c.39.39.9.59 1.41.59.51 0 1.02-.2 1.41-.59l7.78-7.78 2.81-2.81c.8-.78.8-2.07 0-2.86zM5.41 20L4 18.59l7.72-7.72 1.47 1.35L5.41 20z\"/>\n",
              "  </svg>\n",
              "      </button>\n",
              "      \n",
              "  <style>\n",
              "    .colab-df-container {\n",
              "      display:flex;\n",
              "      flex-wrap:wrap;\n",
              "      gap: 12px;\n",
              "    }\n",
              "\n",
              "    .colab-df-convert {\n",
              "      background-color: #E8F0FE;\n",
              "      border: none;\n",
              "      border-radius: 50%;\n",
              "      cursor: pointer;\n",
              "      display: none;\n",
              "      fill: #1967D2;\n",
              "      height: 32px;\n",
              "      padding: 0 0 0 0;\n",
              "      width: 32px;\n",
              "    }\n",
              "\n",
              "    .colab-df-convert:hover {\n",
              "      background-color: #E2EBFA;\n",
              "      box-shadow: 0px 1px 2px rgba(60, 64, 67, 0.3), 0px 1px 3px 1px rgba(60, 64, 67, 0.15);\n",
              "      fill: #174EA6;\n",
              "    }\n",
              "\n",
              "    [theme=dark] .colab-df-convert {\n",
              "      background-color: #3B4455;\n",
              "      fill: #D2E3FC;\n",
              "    }\n",
              "\n",
              "    [theme=dark] .colab-df-convert:hover {\n",
              "      background-color: #434B5C;\n",
              "      box-shadow: 0px 1px 3px 1px rgba(0, 0, 0, 0.15);\n",
              "      filter: drop-shadow(0px 1px 2px rgba(0, 0, 0, 0.3));\n",
              "      fill: #FFFFFF;\n",
              "    }\n",
              "  </style>\n",
              "\n",
              "      <script>\n",
              "        const buttonEl =\n",
              "          document.querySelector('#df-a15cff22-be43-4bcd-b247-947fbfc8d072 button.colab-df-convert');\n",
              "        buttonEl.style.display =\n",
              "          google.colab.kernel.accessAllowed ? 'block' : 'none';\n",
              "\n",
              "        async function convertToInteractive(key) {\n",
              "          const element = document.querySelector('#df-a15cff22-be43-4bcd-b247-947fbfc8d072');\n",
              "          const dataTable =\n",
              "            await google.colab.kernel.invokeFunction('convertToInteractive',\n",
              "                                                     [key], {});\n",
              "          if (!dataTable) return;\n",
              "\n",
              "          const docLinkHtml = 'Like what you see? Visit the ' +\n",
              "            '<a target=\"_blank\" href=https://colab.research.google.com/notebooks/data_table.ipynb>data table notebook</a>'\n",
              "            + ' to learn more about interactive tables.';\n",
              "          element.innerHTML = '';\n",
              "          dataTable['output_type'] = 'display_data';\n",
              "          await google.colab.output.renderOutput(dataTable, element);\n",
              "          const docLink = document.createElement('div');\n",
              "          docLink.innerHTML = docLinkHtml;\n",
              "          element.appendChild(docLink);\n",
              "        }\n",
              "      </script>\n",
              "    </div>\n",
              "  </div>\n",
              "  "
            ]
          },
          "metadata": {},
          "execution_count": 16
        }
      ],
      "source": [
        "DATA_PATH = '/content/drive/MyDrive/data/Bangla_Corpus.csv'\n",
        "df = pd.read_csv(DATA_PATH)\n",
        "\n",
        "df.head()"
      ]
    },
    {
      "cell_type": "code",
      "execution_count": 17,
      "metadata": {
        "colab": {
          "base_uri": "https://localhost:8080/",
          "height": 206
        },
        "id": "RpSyZU31iSkx",
        "outputId": "4271c3e0-7d18-4e1a-dc25-44bf4c00b414"
      },
      "outputs": [
        {
          "output_type": "execute_result",
          "data": {
            "text/plain": [
              "                                                text  target\n",
              "0  অবিশ^াস্য কিন্তু সত্য। প্রাচীনকালে হিন্দু মালা...       1\n",
              "1  আজ বিশ^ হাড়কিপটা দিবস, উইশ করুন আপনার সেই কিপ্...       0\n",
              "2            চীনকে চিনে নিতে ৭২ ঘন্টা সময় চায় ভারত।        1\n",
              "3  আমারে নিবা মাঝি লগে? ব্রীজ হইছে, ব্রীজ দিয়া যা।         0\n",
              "4   বাম আর নাস্তিক আজ আওয়ামীলীগের পিঠে সওয়ার হয়েছে।        1"
            ],
            "text/html": [
              "\n",
              "  <div id=\"df-f4f8b01e-2546-4dde-b95f-35e1cb79877c\">\n",
              "    <div class=\"colab-df-container\">\n",
              "      <div>\n",
              "<style scoped>\n",
              "    .dataframe tbody tr th:only-of-type {\n",
              "        vertical-align: middle;\n",
              "    }\n",
              "\n",
              "    .dataframe tbody tr th {\n",
              "        vertical-align: top;\n",
              "    }\n",
              "\n",
              "    .dataframe thead th {\n",
              "        text-align: right;\n",
              "    }\n",
              "</style>\n",
              "<table border=\"1\" class=\"dataframe\">\n",
              "  <thead>\n",
              "    <tr style=\"text-align: right;\">\n",
              "      <th></th>\n",
              "      <th>text</th>\n",
              "      <th>target</th>\n",
              "    </tr>\n",
              "  </thead>\n",
              "  <tbody>\n",
              "    <tr>\n",
              "      <th>0</th>\n",
              "      <td>অবিশ^াস্য কিন্তু সত্য। প্রাচীনকালে হিন্দু মালা...</td>\n",
              "      <td>1</td>\n",
              "    </tr>\n",
              "    <tr>\n",
              "      <th>1</th>\n",
              "      <td>আজ বিশ^ হাড়কিপটা দিবস, উইশ করুন আপনার সেই কিপ্...</td>\n",
              "      <td>0</td>\n",
              "    </tr>\n",
              "    <tr>\n",
              "      <th>2</th>\n",
              "      <td>চীনকে চিনে নিতে ৭২ ঘন্টা সময় চায় ভারত।</td>\n",
              "      <td>1</td>\n",
              "    </tr>\n",
              "    <tr>\n",
              "      <th>3</th>\n",
              "      <td>আমারে নিবা মাঝি লগে? ব্রীজ হইছে, ব্রীজ দিয়া যা।</td>\n",
              "      <td>0</td>\n",
              "    </tr>\n",
              "    <tr>\n",
              "      <th>4</th>\n",
              "      <td>বাম আর নাস্তিক আজ আওয়ামীলীগের পিঠে সওয়ার হয়েছে।</td>\n",
              "      <td>1</td>\n",
              "    </tr>\n",
              "  </tbody>\n",
              "</table>\n",
              "</div>\n",
              "      <button class=\"colab-df-convert\" onclick=\"convertToInteractive('df-f4f8b01e-2546-4dde-b95f-35e1cb79877c')\"\n",
              "              title=\"Convert this dataframe to an interactive table.\"\n",
              "              style=\"display:none;\">\n",
              "        \n",
              "  <svg xmlns=\"http://www.w3.org/2000/svg\" height=\"24px\"viewBox=\"0 0 24 24\"\n",
              "       width=\"24px\">\n",
              "    <path d=\"M0 0h24v24H0V0z\" fill=\"none\"/>\n",
              "    <path d=\"M18.56 5.44l.94 2.06.94-2.06 2.06-.94-2.06-.94-.94-2.06-.94 2.06-2.06.94zm-11 1L8.5 8.5l.94-2.06 2.06-.94-2.06-.94L8.5 2.5l-.94 2.06-2.06.94zm10 10l.94 2.06.94-2.06 2.06-.94-2.06-.94-.94-2.06-.94 2.06-2.06.94z\"/><path d=\"M17.41 7.96l-1.37-1.37c-.4-.4-.92-.59-1.43-.59-.52 0-1.04.2-1.43.59L10.3 9.45l-7.72 7.72c-.78.78-.78 2.05 0 2.83L4 21.41c.39.39.9.59 1.41.59.51 0 1.02-.2 1.41-.59l7.78-7.78 2.81-2.81c.8-.78.8-2.07 0-2.86zM5.41 20L4 18.59l7.72-7.72 1.47 1.35L5.41 20z\"/>\n",
              "  </svg>\n",
              "      </button>\n",
              "      \n",
              "  <style>\n",
              "    .colab-df-container {\n",
              "      display:flex;\n",
              "      flex-wrap:wrap;\n",
              "      gap: 12px;\n",
              "    }\n",
              "\n",
              "    .colab-df-convert {\n",
              "      background-color: #E8F0FE;\n",
              "      border: none;\n",
              "      border-radius: 50%;\n",
              "      cursor: pointer;\n",
              "      display: none;\n",
              "      fill: #1967D2;\n",
              "      height: 32px;\n",
              "      padding: 0 0 0 0;\n",
              "      width: 32px;\n",
              "    }\n",
              "\n",
              "    .colab-df-convert:hover {\n",
              "      background-color: #E2EBFA;\n",
              "      box-shadow: 0px 1px 2px rgba(60, 64, 67, 0.3), 0px 1px 3px 1px rgba(60, 64, 67, 0.15);\n",
              "      fill: #174EA6;\n",
              "    }\n",
              "\n",
              "    [theme=dark] .colab-df-convert {\n",
              "      background-color: #3B4455;\n",
              "      fill: #D2E3FC;\n",
              "    }\n",
              "\n",
              "    [theme=dark] .colab-df-convert:hover {\n",
              "      background-color: #434B5C;\n",
              "      box-shadow: 0px 1px 3px 1px rgba(0, 0, 0, 0.15);\n",
              "      filter: drop-shadow(0px 1px 2px rgba(0, 0, 0, 0.3));\n",
              "      fill: #FFFFFF;\n",
              "    }\n",
              "  </style>\n",
              "\n",
              "      <script>\n",
              "        const buttonEl =\n",
              "          document.querySelector('#df-f4f8b01e-2546-4dde-b95f-35e1cb79877c button.colab-df-convert');\n",
              "        buttonEl.style.display =\n",
              "          google.colab.kernel.accessAllowed ? 'block' : 'none';\n",
              "\n",
              "        async function convertToInteractive(key) {\n",
              "          const element = document.querySelector('#df-f4f8b01e-2546-4dde-b95f-35e1cb79877c');\n",
              "          const dataTable =\n",
              "            await google.colab.kernel.invokeFunction('convertToInteractive',\n",
              "                                                     [key], {});\n",
              "          if (!dataTable) return;\n",
              "\n",
              "          const docLinkHtml = 'Like what you see? Visit the ' +\n",
              "            '<a target=\"_blank\" href=https://colab.research.google.com/notebooks/data_table.ipynb>data table notebook</a>'\n",
              "            + ' to learn more about interactive tables.';\n",
              "          element.innerHTML = '';\n",
              "          dataTable['output_type'] = 'display_data';\n",
              "          await google.colab.output.renderOutput(dataTable, element);\n",
              "          const docLink = document.createElement('div');\n",
              "          docLink.innerHTML = docLinkHtml;\n",
              "          element.appendChild(docLink);\n",
              "        }\n",
              "      </script>\n",
              "    </div>\n",
              "  </div>\n",
              "  "
            ]
          },
          "metadata": {},
          "execution_count": 17
        }
      ],
      "source": [
        "df = df.drop(df.columns[[0, 2]],axis = 1) # removing unnecessery columns\n",
        "\n",
        "df.head()"
      ]
    },
    {
      "cell_type": "code",
      "execution_count": 18,
      "metadata": {
        "colab": {
          "base_uri": "https://localhost:8080/"
        },
        "id": "yZvTfehwmw7f",
        "outputId": "26cb23bf-b997-4889-d8f5-b46025cffadd"
      },
      "outputs": [
        {
          "output_type": "execute_result",
          "data": {
            "text/plain": [
              "(4500, 2)"
            ]
          },
          "metadata": {},
          "execution_count": 18
        }
      ],
      "source": [
        "df.shape"
      ]
    },
    {
      "cell_type": "code",
      "execution_count": 19,
      "metadata": {
        "colab": {
          "base_uri": "https://localhost:8080/"
        },
        "id": "44nzT0KxOY74",
        "outputId": "1c07b69a-5451-4e53-e82a-a68e7c6fa4fe"
      },
      "outputs": [
        {
          "output_type": "stream",
          "name": "stdout",
          "text": [
            "False\n"
          ]
        }
      ],
      "source": [
        "df.dropna(axis=0, subset=['text'], inplace=True) # Remove documents with missing target values\n",
        "df.dropna(axis=0, subset=['target'], inplace=True)\n",
        "\n",
        "\n",
        "df.drop_duplicates(inplace = True) # Dropping Duplicate Documents\n",
        "\n",
        "check_nan = df['target'].isnull().values.any() # Check Nan values\n",
        "check_nan2 = df['text'].isnull().values.any() # Check Nan values\n",
        "print(check_nan2)"
      ]
    },
    {
      "cell_type": "code",
      "execution_count": 20,
      "metadata": {
        "colab": {
          "base_uri": "https://localhost:8080/"
        },
        "id": "E_HFOqpWOZiH",
        "outputId": "bcada5d3-044f-403c-ac4e-3f36d1a0ccf1"
      },
      "outputs": [
        {
          "output_type": "execute_result",
          "data": {
            "text/plain": [
              "(4411, 2)"
            ]
          },
          "metadata": {},
          "execution_count": 20
        }
      ],
      "source": [
        "# After dropping new corpus\n",
        "# print(df)\n",
        "df.shape"
      ]
    },
    {
      "cell_type": "code",
      "execution_count": 21,
      "metadata": {
        "id": "j7BdvEtLoqWN"
      },
      "outputs": [],
      "source": [
        "# map classes to labels\n",
        "df['target'] = df['target'].map({1: 'Offensive', 0: 'Non-offensive'})\n",
        "\n",
        "df.rename(columns = {'class': 'target', 'tweet': 'text'}, inplace = True)"
      ]
    },
    {
      "cell_type": "code",
      "execution_count": 22,
      "metadata": {
        "colab": {
          "base_uri": "https://localhost:8080/",
          "height": 429
        },
        "id": "ilog40qtm9d3",
        "outputId": "d15258bb-5065-4839-ac45-e06763728a9f"
      },
      "outputs": [
        {
          "output_type": "display_data",
          "data": {
            "text/plain": [
              "<Figure size 504x504 with 1 Axes>"
            ],
            "image/png": "[encoded data removed]"
          },
          "metadata": {}
        }
      ],
      "source": [
        "plt.figure(figsize = (7,7))\n",
        "sorted_counts = df['target'].value_counts()\n",
        "plt.pie(sorted_counts, labels = sorted_counts.index, startangle = 90, counterclock = False, wedgeprops = {'width' : 0.55},\n",
        "       autopct='%1.1f%%', pctdistance = 0.7, textprops = {'color': 'black', 'fontsize' : 15}, shadow = True,\n",
        "        colors = sns.color_palette(\"Paired\")[7:])\n",
        "plt.text(x = -0.35, y = 0, s = 'Total Documents: {}'.format(df.shape[0]))\n",
        "plt.title('Distribution of Documents in the Dataset', fontsize = 16);"
      ]
    },
    {
      "cell_type": "code",
      "execution_count": null,
      "metadata": {
        "id": "A9vEfYE5nUu6"
      },
      "outputs": [],
      "source": [
        "df['target'] = df.target.map({'Offensive': 1, 'Non-offensive': 0})"
      ]
    },
    {
      "cell_type": "markdown",
      "metadata": {
        "id": "PwgCl3bqqjcE"
      },
      "source": [
        "Corpus Seperation"
      ]
    },
    {
      "cell_type": "code",
      "execution_count": null,
      "metadata": {
        "colab": {
          "base_uri": "https://localhost:8080/"
        },
        "id": "yryaeXVwqDOz",
        "outputId": "2ee31239-4536-484b-ee66-0234ac19b98a"
      },
      "outputs": [
        {
          "output_type": "stream",
          "name": "stdout",
          "text": [
            "Number of rows in the total set: 4411\n",
            "Number of rows in the training set: 3528\n",
            "Number of rows in the test set: 883\n"
          ]
        }
      ],
      "source": [
        "X_train, X_test, y_train, y_test = train_test_split(df['text'], df['target'], test_size=0.2, random_state=261)\n",
        "\n",
        "print('Number of rows in the total set: {}'.format(df.shape[0]))\n",
        "print('Number of rows in the training set: {}'.format(X_train.shape[0]))\n",
        "print('Number of rows in the test set: {}'.format(X_test.shape[0]))"
      ]
    },
    {
      "cell_type": "code",
      "source": [
        "train_test_ratio = {'Training Corpus': X_train.shape[0], 'Testing Corpus': X_test.shape[0]}\n",
        "\n",
        "labels = list(train_test_ratio.keys())\n",
        "sizes = list(train_test_ratio.values())\n",
        "\n",
        "fig1, ax1 = plt.subplots(figsize=(6,6))\n",
        "ax1.pie(sizes, labels=labels, autopct='%1.1f%%', shadow=True, startangle=90)\n",
        "ax1.axis('equal')\n",
        "plt.title('The ratio of Training, Validation and Testing')\n",
        "# plt.legend()\n",
        "plt.show()"
      ],
      "metadata": {
        "colab": {
          "base_uri": "https://localhost:8080/",
          "height": 374
        },
        "id": "d2_VyF5zKHVa",
        "outputId": "a2ef9a49-b641-42f4-8bf8-da14cb946db6"
      },
      "execution_count": null,
      "outputs": [
        {
          "output_type": "display_data",
          "data": {
            "text/plain": [
              "<Figure size 432x432 with 1 Axes>"
            ],
            "image/png": "[encoded data removed]"
          },
          "metadata": {}
        }
      ]
    },
    {
      "cell_type": "markdown",
      "metadata": {
        "id": "6wZv4YLcw46w"
      },
      "source": [
        "Bangla Stop Words Extraction"
      ]
    },
    {
      "cell_type": "code",
      "execution_count": null,
      "metadata": {
        "colab": {
          "base_uri": "https://localhost:8080/"
        },
        "id": "33WMJvS53lsx",
        "outputId": "caf7f4b5-1e44-4b0e-8411-35dc80d9eaf5"
      },
      "outputs": [
        {
          "output_type": "stream",
          "name": "stderr",
          "text": [
            "/usr/local/lib/python3.8/dist-packages/sklearn/feature_extraction/text.py:396: UserWarning: Your stop_words may be inconsistent with your preprocessing. Tokenizing the stop words generated tokens ['অথব', 'অন', 'অবধ', 'অবশ', 'অর', 'আগ', 'আছ', 'আদ', 'আপন', 'আব', 'আম', 'আমর', 'ইত', 'ইহ', 'উই', 'উক', 'উচ', 'উত', 'উন', 'এক', 'একট', 'একব', 'এখ', 'এট', 'এতট', 'এদ', 'এমনক', 'ওক', 'ওখ', 'ওদ', 'ওয', 'ওয়', 'কট', 'কব', 'কমন', 'কয', 'কর', 'করছ', 'করত', 'করব', 'করল', 'কয়', 'খত', 'চল', 'জনক', 'তথ', 'তব', 'তর', 'থম', 'ধর', 'নঐ', 'নও', 'নজন', 'নত', 'নয', 'পক', 'পষ', 'ফল', 'বক', 'বদল', 'বয', 'বর', 'বল', 'বলত', 'বস', 'বহ', 'মত', 'মধ', 'মন', 'যওজ', 'যতট', 'যথ', 'যদ', 'যন', 'যবহ', 'যভ', 'যম', 'রও', 'রণ', 'রত', 'রথম', 'রপর', 'রভ', 'রয', 'রযন', 'লক', 'ষয', 'সঙ', 'সম', 'সমস', 'হইত', 'হইব', 'হইয', 'হওয', 'হচ', 'হব', 'হয'] not in stop_words.\n",
            "  warnings.warn(\n"
          ]
        },
        {
          "output_type": "stream",
          "name": "stdout",
          "text": [
            "{'কর': 489, 'মল': 1175, 'আন': 125, 'তর': 796, 'আদ': 121, 'লত': 1332, 'নশন': 920, 'সন': 1444, 'আম': 143, 'আছ': 108, 'নত': 896, 'আব': 138, 'নস': 922, 'ইয়': 246, 'সম': 1461, 'কথ': 467, 'বল': 1072, 'আগ': 99, 'ধব': 868, 'বলত': 1076, 'করত': 492, 'হব': 1517, 'ঝত': 697, 'অন': 26, 'কব': 475, 'লছ': 1328, 'উস': 292, 'ওন': 412, 'ইব': 218, 'টয়': 736, 'লক': 1320, 'ফয়': 1010, 'আহম': 172, 'আল': 156, 'দন': 831, 'ডপ': 750, 'আস': 162, 'ঈদ': 247, 'মর': 1168, 'রচ': 1245, 'মন': 1152, 'বড়': 1093, 'কষ': 508, 'ওস': 424, 'ইন': 200, 'ঝল': 702, 'রপ': 1274, 'টওভ': 709, 'ওয়': 429, 'সময়': 1468, 'গব': 574, 'গর': 579, 'ঘব': 599, 'লই': 1316, 'রত': 1256, 'রছ': 1247, 'যদ': 1213, 'লন': 1335, 'ডন': 749, 'তব': 789, 'শন': 1369, 'হওয়': 1501, 'কআপ': 433, 'রণ': 1253, 'চল': 627, 'বভ': 1060, 'মসজ': 1179, 'কঠ': 460, 'শশ': 1386, 'আদর': 122, 'রন': 1272, 'যক': 1194, 'নক': 882, 'পড়ল': 991, 'শরৎক': 1383, 'তক': 771, 'কম': 483, 'বর': 1062, 'এইত': 313, 'গম': 578, 'শর': 1380, 'দব': 837, 'রবল': 1283, 'রস': 1298, 'ছন': 643, 'অব': 39, 'কল': 499, 'ষন': 1406, 'পড়': 985, 'চলব': 631, 'এসব': 388, 'দলক': 848, 'মত': 1141, 'কক': 444, 'ধর': 870, 'ষণ': 1401, 'গন': 569, 'রফ': 1280, 'হর': 1522, 'শক': 1357, 'পন': 957, 'যবহ': 1222, 'রদ': 1266, 'ভৎস': 1116, 'তন': 785, 'কতট': 463, 'রপর': 1278, 'গল': 583, 'চলল': 632, 'অপ': 31, 'পকথন': 936, 'খত': 524, 'রল': 1295, 'সবচ': 1455, 'যব': 1217, 'উঠত': 262, 'জত': 661, 'আসল': 168, 'ঘট': 592, 'শট': 1363, 'ঞস': 705, 'আপন': 133, 'রগ': 1240, 'কয়': 516, 'গণপ': 561, 'বব': 1059, 'রধ': 1270, 'নমন': 912, 'করল': 497, 'ইবল': 219, 'শয়ত': 1391, 'এখ': 340, 'বস': 1083, 'হসপ': 1528, 'পথ': 949, 'জনক': 665, 'সল': 1477, 'ইড': 196, 'লদ': 1334, 'কতগ': 462, 'সরক': 1472, 'মদ': 1145, 'কদ': 468, 'যবস': 1221, 'পত': 947, 'আলহ': 159, 'এতই': 350, 'ষমত': 1409, 'গত': 565, 'আজক': 110, 'হইছ': 1492, 'সদ': 1442, 'ইসর': 242, 'বড়ভ': 1096, 'ইক': 184, 'করব': 495, 'রথমব': 1264, 'নরম': 916, 'পদ': 951, 'শপত': 1374, 'এট': 347, 'একট': 324, 'একল': 335, 'পট': 944, 'এইরকম': 318, 'বউ': 1019, 'খল': 537, 'পছন': 941, 'বহ': 1088, 'আওয়': 92, 'অপহরণ': 37, 'অস': 62, 'পক': 935, 'ফল': 1007, 'দর': 841, 'শগ': 1360, '১৫': 1588, 'আগস': 101, 'টল': 733, 'উষ': 291, 'ইনর': 212, 'বসল': 1087, 'অঙ': 12, 'গস': 586, 'গঠন': 551, 'ইট': 195, 'ইঙ': 189, 'হও': 1500, 'ইল': 229, 'রক': 1237, 'রট': 1251, 'হরপ': 1524, 'সভ': 1460, 'ষক': 1393, 'ফসল': 1009, 'উল': 288, 'রশ': 1296, 'ঐখ': 396, 'খছ': 521, 'অবস': 48, 'কড়': 514, 'নজর': 891, 'হচ': 1506, 'খন': 528, 'যতদ': 1208, 'ততদ': 781, 'সমর': 1466, 'আক': 94, 'জল': 683, 'নদ': 899, 'লল': 1347, 'ইত': 197, 'তথ': 782, 'যমন': 1224, 'হক': 1503, 'বয়স': 1101, 'নর': 914, 'ফলম': 1008, 'সবজ': 1456, 'বক': 1024, 'বদম': 1047, 'ইশ': 233, 'লম': 1345, 'খব': 530, 'চর': 624, 'রহ': 1305, 'মহস': 1184, 'মধ': 1151, 'ষম': 1408, 'অয': 54, 'হফ': 1516, 'জব': 680, 'মজ': 1135, 'লসজ': 1352, 'ছয়': 648, 'বরগ': 1066, 'সকল': 1424, 'হয়ন': 1533, 'হজ': 1507, 'য়নব': 1560, 'কট': 454, 'জশন': 688, 'আশ': 160, 'অফ': 38, 'মহ': 1181, 'রধর': 1271, 'অধ': 23, 'ñঅফ': 1, 'আত': 119, 'মস': 1178, 'কইত': 437, 'আচ': 104, 'এক': 321, 'উন': 270, 'তল': 802, 'হম': 1519, 'মজল': 1136, 'ঋণ': 303, 'উপ': 273, 'ইর': 226, 'বলছ': 1075, 'এইসব': 319, '১ম': 1571, '২য়': 1601, '৩য়': 1622, 'এরপর': 378, 'যখনই': 1198, 'লয়': 1355, 'ইঞ': 194, 'তট': 778, 'সক': 1422, 'বয়কট': 1099, 'শত': 1364, 'অর': 56, 'অবশ': 47, 'ফজর': 997, 'আয': 150, 'সহজ': 1483, 'জট': 658, 'উচ': 256, 'শব': 1377, 'ভয়': 1118, 'টব': 725, 'নট': 894, 'যকশন': 1196, 'পরব': 972, 'রতব': 1260, 'ধন': 866, 'বছর': 1034, 'নম': 910, 'দম': 838, 'এখনক': 342, '৭০': 1653, 'এভ': 365, 'লফ': 1339, 'এদ': 354, 'আয়': 174, 'যই': 1192, 'করছ': 490, 'অপর': 35, 'ঘর': 601, 'চন': 620, 'ওব': 416, 'জর': 682, 'বধ': 1050, 'উঠ': 260, 'দক': 821, 'সবগ': 1454, 'এন': 356, 'কইছ': 436, 'আপ': 132, '১৮': 1592, 'হট': 1508, 'চলছ': 629, 'বই': 1011, 'চলত': 630, 'ধরত': 873, 'উৎকন': 295, 'রব': 1281, '৫০': 1642, 'সপ': 1447, 'হইল': 1496, 'সত': 1438, 'একস': 337, 'এতদ': 352, 'নই': 878, 'সইস': 1419, 'কইল': 440, 'চক': 613, '২০০৬': 1605, '২৮': 1617, 'অক': 7, 'নরপশ': 915, 'যন': 1215, 'ফট': 999, 'ধরক': 871, 'এমপ': 370, 'চয়': 636, 'মচ': 1133, 'হযরত': 1521, 'রড': 1252, 'বদল': 1048, 'নয়ন': 932, 'সর': 1471, 'গজলড': 548, 'মক': 1125, 'অবনত': 43, 'রজ': 1248, 'ষয়': 1416, 'অম': 53, 'টপত': 723, 'খবর': 531, 'বত': 1042, 'ইছ': 191, 'রমই': 1286, 'ইদহ': 199, 'জনত': 672, 'উদ': 267, 'আমর': 147, 'ময়ল': 1191, 'অশ': 61, 'রণত': 1255, 'লপ': 1337, 'বউট': 1021, 'লখ': 1323, 'অভ': 51, 'য়র': 1563, 'সমস': 1467, 'টফ': 724, 'চরম': 625, 'মহত': 1182, 'এডম': 349, 'চড়': 635, 'দই': 819, 'উক': 254, 'মরল': 1174, 'কটক': 455, 'আখ': 98, 'ধরব': 875, 'ওত': 410, 'ঘটন': 594, 'উড়ন': 300, 'পড়ন': 989, 'আবদ': 140, 'রম': 1285, 'তভ': 793, 'রয়': 1314, 'ৎস': 1537, 'ষত': 1403, 'রও': 1236, 'আনব': 129, 'রখ': 1239, 'রচন': 1246, 'আধ': 123, 'ড়ন': 1543, 'নচ': 887, 'দশট': 854, 'অসম': 66, 'ভব': 1108, 'শই': 1356, 'কখন': 445, 'ঝব': 699, 'একদ': 327, 'চশত': 633, 'পড়ব': 990, 'জঙ': 655, 'য়নগঞ': 1559, 'জঘন': 654, 'যতম': 1210, 'ইনবক': 209, 'যতগ': 1206, 'বপ': 1056, 'ইসল': 243, 'টপ': 722, 'ওষ': 423, 'ছটফট': 641, 'আহ': 170, 'রতন': 1259, 'কপ': 473, 'ডল': 756, 'খয়র': 540, 'অসত': 63, 'লজ': 1329, 'মড়': 1186, 'উর': 287, 'উত': 266, 'শঙ': 1361, 'অজ': 14, 'ইলচ': 230, 'পরল': 975, 'চট': 617, 'দট': 828, 'ইপ': 215, 'এইট': 310, 'তম': 795, 'একদম': 328, 'ধক': 862, 'আসব': 165, 'চত': 618, 'নগ': 885, 'করম': 496, 'জপথ': 679, 'তগ': 777, 'আনন': 128, 'ভঙ': 1104, 'মগ': 1129, 'ঝছ': 695, 'মঠ': 1139, 'কঢ়': 515, 'উজ': 257, 'এখনই': 341, 'উঠছ': 261, 'ঝগড়': 694, 'উইয়': 253, 'ইসন': 240, 'একম': 332, 'ছক': 638, 'ফর': 1003, 'বড': 1041, 'নল': 917, 'কই': 434, 'বরই': 1063, 'য়ন': 1558, 'আমদ': 145, 'ইচ': 190, 'ওক': 404, 'জনগন': 670, 'দড়': 856, 'ওপর': 414, 'নব': 904, 'ফজল': 998, 'যয়': 1231, 'সজ': 1432, 'ছব': 644, 'এমনই': 369, 'ডম': 754, 'পকর': 937, 'দয়': 857, 'একজন': 322, 'আসর': 167, 'যপ': 1216, 'ঙচ': 609, 'আহত': 171, 'য়খ': 1550, 'বজনপ': 1037, 'অপকর': 32, 'ইম': 221, 'কইর': 439, 'য়জন': 1552, '৯৯': 1665, '০১': 1569, 'রথম': 1263, 'ধরল': 876, 'আসছ': 163, '২৯': 1618, 'নছ': 888, 'ভন': 1106, 'ঘস': 606, 'রমন': 1290, 'সতর': 1440, '২৩': 1611, 'রসহ': 1304, 'ফত': 1000, 'উজফ': 258, 'ড়ব': 1544, 'বড়ল': 1097, '৬৫': 1650, 'জড়': 690, 'এমক': 367, 'ষর': 1410, 'সদস': 1443, 'আবশ': 142, '১০': 1572, 'গফ': 572, 'ফক': 996, 'লব': 1340, 'সরঘর': 1473, 'গরম': 582, 'শরম': 1382, 'লট': 1330, 'ময়দ': 1188, 'করস': 498, 'অলট': 58, 'ইমত': 222, 'শহর': 1389, 'পরছ': 967, 'নভ': 909, 'বহর': 1092, 'এইভ': 316, '২০১৯': 1606, 'পল': 977, '৭১': 1655, 'ইনচ': 204, 'পড়স': 992, 'পড়ছ': 987, 'টধর': 720, 'রহনক': 1309, 'ধত': 864, 'শধ': 1367, 'টগ': 713, 'ঘন': 598, 'থল': 816, 'এপ': 361, 'এম': 366, 'সরব': 1474, 'এনপ': 359, 'গণ': 555, 'নষ': 921, 'রঞ': 1250, 'দও': 820, 'লভ': 1343, 'বটম': 1040, 'সট': 1434, 'নকল': 883, 'এফ': 362, 'ভর': 1112, 'ময়মনস': 1190, 'অপঘ': 33, 'ইস': 237, 'টন': 721, 'ওল': 421, 'মমভ': 1166, 'গভ': 576, 'রভ': 1284, 'বসব': 1086, '১৯৭১': 1598, 'লহ': 1353, 'ষরণ': 1411, 'ভপ': 1107, 'নন': 901, 'দদ': 830, 'য়ক': 1549, '৮০': 1661, '৯০': 1663, 'পরদ': 970, 'যথন': 1212, 'বউক': 1020, 'সলম': 1478, 'জম': 681, 'ভক': 1102, 'আজও': 109, 'ঘড়ব': 608, 'লবন': 1342, 'পরও': 965, 'য়গ': 1551, 'আনল': 130, '৩০০০০': 1626, 'আইন': 81, '২৬': 1615, 'ডস': 761, 'বঙ': 1032, 'ভবন': 1111, 'আরব': 152, 'ধy': 858, 'নগর': 886, '২৫': 1614, 'আসত': 164, 'বইগ': 1012, 'উগ': 255, 'নড়': 929, 'আপল': 135, 'এড': 348, 'যর': 1226, 'চকল': 615, 'আনছ': 126, 'কঙ': 447, 'ডগ': 745, 'শরবত': 1381, 'কজন': 451, 'ষই': 1392, 'মশকর': 1177, 'হস': 1527, 'ওলট': 422, 'হইয়': 1498, 'জক': 650, '৩৯': 1634, 'নববন': 908, 'দফ': 836, 'নজ': 889, 'মমত': 1165, 'পড়ত': 988, 'ঘরপ': 603, 'ইদ': 198, 'যইদ': 1193, 'আইড': 79, 'বলব': 1079, 'গজব': 547, 'এরশ': 380, 'ছড়': 647, 'ইহ': 244, '৫০০': 1643, 'বড়ই': 1094, 'অপম': 34, 'লর': 1346, 'আসম': 166, 'জয়': 691, 'গবন': 575, 'ময়': 1187, 'আড': 118, 'হঠ': 1510, 'পবত': 962, 'রই': 1234, 'ষট': 1400, 'ঔদ': 431, 'মম': 1164, 'আচরন': 107, 'বছ': 1033, 'পদত': 954, 'যস': 1228, 'হই': 1491, 'অনল': 29, 'বয়ফ': 1100, 'পলস': 979, 'আয়ন': 175, 'মতলব': 1144, 'অযথ': 55, 'সহয': 1486, 'ডলক': 757, 'অহ': 70, 'এইব': 315, 'আইফ': 84, 'ওসব': 425, 'আরম': 154, 'সবসময়': 1459, 'রপত': 1276, 'এরকম': 374, 'ষব': 1407, 'আউট': 90, '১৪': 1585, 'অত': 18, 'বদহজম': 1049, 'বম': 1061, 'ইজ': 192, 'পরক': 966, 'ছল': 645, 'অবল': 46, '২০': 1602, 'ইসকন': 238, 'বহত': 1089, 'আজবত': 113, 'ইউর': 180, 'টবল': 727, 'ওট': 408, 'এফব': 363, 'আঙ': 103, 'গয়': 589, 'আমরণ': 148, 'অনশন': 30, 'পদচ': 952, 'সফ': 1448, 'খরচ': 536, 'পরট': 968, 'উপক': 274, 'আইল': 85, 'আইস': 86, 'দশক': 853, 'লশয': 1350, 'বলই': 1073, 'দনময়': 833, 'মড': 1140, 'নইল': 879, 'মই': 1120, 'মহড়': 1185, 'একদল': 330, 'সমবয়স': 1464, 'রআন': 1233, 'বনট': 1052, 'অগ': 10, 'ৎক': 1535, 'আঘ': 102, 'তপ': 786, 'উপহ': 280, 'কভ': 482, 'যৎ': 1230, 'ডদ': 748, 'বদ': 1045, 'দল': 846, 'ষদ': 1404, 'মমভব': 1167, 'শপ': 1373, 'পরশ': 976, 'রসফ': 1300, 'মঙ': 1132, 'গলব': 585, '১১': 1578, 'মগঞ': 1130, 'অট': 16, 'ধট': 863, 'অঘ': 11, 'জকত': 651, 'একব': 331, 'কটকট': 456, 'টঘ': 714, 'রগত': 1242, 'কন': 469, 'হরল': 1525, 'খর': 535, 'হইব': 1495, '১৪৫০০': 1587, '১২০০০': 1582, '৭০০০': 1654, 'উট': 259, 'লগঞ': 1325, 'রপরও': 1279, 'হরত': 1523, 'অবর': 45, 'বলর': 1081, 'অবম': 44, 'ফফ': 1002, 'ইনস': 214, 'থক': 806, 'কয়ট': 517, 'আগমন': 100, 'টস': 734, 'উশন': 290, 'ইনট': 206, 'কমল': 486, 'টর': 731, 'ড়ল': 1546, 'পনর': 958, 'ñম': 2, 'টত': 717, '০৫৯': 1570, 'ডপর': 751, 'তলত': 804, 'লনক': 1336, 'সনস': 1446, 'চতর': 619, 'চওয়': 612, 'মশ': 1176, 'রথ': 1262, 'কস': 509, 'উঠল': 264, 'ওজন': 406, 'আতঙ': 120, 'এগ': 343, 'রর': 1293, 'জলক': 684, 'দছ': 826, 'বইয়': 1018, 'সৎ': 1487, 'রজন': 1249, 'আইকন': 74, 'গণতন': 558, 'রতক': 1258, 'জনপ': 673, 'ধই': 859, 'যতœ': 1202, 'এরকমও': 376, 'উফফফ': 283, 'আউচ': 89, 'কসম': 511, 'আইছ': 75, 'ডশ': 760, 'কচ': 448, 'দপ': 834, 'ডট': 747, 'ঈম': 249, 'এসআই': 381, 'আকবর': 95, 'ঘড়': 607, 'কও': 442, 'ঝড়': 704, 'ইভ': 220, 'এসএসস': 385, 'হওয়র': 1502, 'এইয': 317, '৩৪': 1629, '১৩৬': 1584, 'টয়ল': 737, 'উম': 286, 'মসল': 1180, 'বইন': 1015, 'উয়': 302, 'আচরণ': 106, 'করণ': 491, 'জশ': 687, 'ড়ছ': 1541, 'ইনব': 208, 'বগঞ': 1030, 'উহ': 294, 'বসছ': 1084, 'রনব': 1273, 'জণগন': 660, 'শতল': 1365, 'মনট': 1154, 'এসছ': 387, 'মকর': 1126, 'উৎসব': 298, 'ইউ': 176, 'কবরট': 477, 'টট': 716, 'দখ': 823, 'জদ': 662, '১০০': 1575, '৯৮': 1664, 'ধদ': 865, 'য়লগ': 1565, 'থন': 810, 'ইউন': 179, 'দত': 829, 'ইও': 181, 'ঝর': 700, 'কশ': 506, 'নশ': 918, 'টক': 711, 'এবনরম': 364, 'ষড়যন': 1415, 'সঙ': 1427, 'অসন': 64, 'কটবর': 457, 'লড়': 1354, 'ধইল': 861, 'কলঙ': 501, 'কময়': 487, 'লস': 1351, 'পজ': 942, 'পঙ': 938, 'গপ': 571, 'দরক': 842, 'চশম': 634, 'ষগ': 1398, 'আইসব': 88, 'য়ব': 1561, 'রহন': 1308, 'গক': 541, 'কইস': 441, 'বজন': 1036, 'কছ': 449, 'ভবক': 1109, 'অনন': 27, 'থর': 814, 'নঝ': 893, 'গহ': 587, 'পতন': 948, 'দখল': 824, 'অখন': 9, 'বগল': 1031, 'ইসকনক': 239, 'নও': 880, 'কবর': 476, 'চব': 622, 'œব': 3, 'তরক': 797, 'অলসত': 60, 'লগ': 1324, 'ইজন': 193, 'আরক': 151, 'বউয়': 1023, 'ভদ': 1105, 'অধর': 25, 'ইরফ': 228, 'এইদ': 314, 'আলগ': 157, 'সড়ক': 1489, 'গণহত': 564, 'যথ': 1211, 'ইমর': 225, 'পব': 960, 'যতক': 1205, '১০০দ': 1576, 'কলম': 503, 'এইগ': 306, 'মইর': 1122, 'আইসক': 87, 'যকর': 1195, 'বট': 1038, 'অথ': 20, 'ভবত': 1110, 'ঐক': 395, 'যবদ': 1219, 'গণআন': 556, 'বরন': 1070, 'শহ': 1388, 'বলদ': 1077, 'তলট': 803, 'ধইর': 860, 'এইচ': 307, 'যতœসহক': 1203, 'ভয়ঙ': 1119, 'খদ': 527, 'ঠক': 738, '১৬': 1589, 'কতব': 465, 'লড': 1331, 'পচ': 939, 'ধপ': 867, 'ইনঘ': 203, 'অলর': 59, 'অসময়': 67, 'যতই': 1204, 'টচ': 715, 'যম': 1223, 'ধরন': 874, 'উলঙ': 289, '৪০': 1635, 'ডক': 744, 'টবদ': 726, 'ইনম': 211, 'দহয়': 855, 'দরবন': 845, 'ঘই': 590, 'গদ': 568, 'শফ': 1376, 'আলম': 158, '২০০': 1603, '৩০০': 1624, 'টভ': 729, 'মপক': 1160, 'ঘও': 591, 'সচল': 1430, 'একরকম': 334, 'গরন': 581, 'এইডস': 312, 'গণধ': 559, 'রইল': 1235, 'সঞ': 1433, 'ঝট': 696, 'জনস': 677, 'লশ': 1349, 'আটক': 116, 'পণ': 946, 'মখ': 1128, 'থব': 812, 'জনশ': 676, 'ওড়ন': 428, 'গতক': 566, 'চকব': 614, 'ইখ': 187, 'আইনজ': 82, 'ইফ': 216, 'ড়ম': 1545, 'বলদদ': 1078, 'মরছ': 1169, 'তকদ': 772, 'উনগ': 271, 'ডর': 755, 'যশ': 1227, 'যখণ': 1197, 'ভরস': 1113, 'আহমদ': 173, 'অনভ': 28, 'অঞ': 15, 'আবর': 141, 'উড': 265, 'পশ': 980, 'য়ভ': 1562, 'বনয': 1055, 'গণজ': 557, 'গরণ': 580, 'মঞ': 1137, 'কয়ড': 518, 'ইনজ': 205, 'ওদ': 411, 'সচর': 1429, 'ইনশ': 213, 'রহমত': 1311, 'মদদ': 1147, 'হপ': 1515, 'ঝখ': 693, 'ইসব': 241, 'হইস': 1497, 'অসৎ': 69, 'জলপর': 685, 'ণচর': 764, 'ওপ': 413, 'আসস': 169, 'ইনক': 202, '৭২': 1656, '৬০': 1649, 'মব': 1161, 'শপথ': 1375, 'ষদর': 1405, '১৯৭৭': 1599, 'একথ': 326, 'রসম': 1302, 'লঘ': 1326, 'দশ': 852, 'নমত': 911, 'মদন': 1148, 'ণন': 767, 'ইলস': 232, 'মপ': 1159, 'রয': 1292, 'এছ': 344, 'ছস': 646, 'সময': 1465, 'লকড': 1321, 'বফ': 1058, '২৩৮': 1612, 'এরদ': 377, 'মবঙ': 1162, 'য়ত': 1555, 'বয়': 1098, 'এইচএসস': 308, 'ওঠ': 409, 'শমন': 1379, 'এতক': 351, 'রমত': 1289, 'যধর': 1214, 'নশট': 919, 'সস': 1480, 'জগ': 652, 'সথ': 1441, '১৬১০৮': 1590, 'বকক': 1025, 'আমল': 149, 'হয': 1520, 'বকদ': 1026, 'ষকদ': 1395, 'রষ': 1297, 'অপরক': 36, 'রহম': 1310, 'এইক': 304, 'একলগ': 336, 'কতদ': 464, 'টম': 730, 'কবয়দ': 481, 'নয়ত': 931, 'সবক': 1453, 'সহমত': 1485, 'লচ': 1327, '৩১': 1627, 'মরন': 1172, 'শদ': 1366, 'ঘলদ': 604, 'এইড': 311, 'বখ': 1027, 'কজনক': 452, 'উঠব': 263, 'ইলট': 231, '২১': 1608, 'জজ': 657, 'এইহ': 320, 'উফফ': 282, 'সয়': 1490, 'আজত': 111, 'রবত': 1282, 'এসএফ': 382, 'আওত': 91, 'উপভ': 278, 'চয়ই': 637, 'আঠ': 117, 'উদঘ': 268, '৩শ': 1621, 'ভগব': 1103, '৪১৩': 1637, '৪১৮৬': 1638, 'সবথ': 1458, 'য়দ': 1556, 'ড়ঙ': 1540, 'গণপর': 562, 'বহন': 1091, 'ঘটল': 595, 'গছ': 545, 'তকম': 773, 'শল': 1384, 'ওহ': 426, 'জগত': 653, 'ষয়ট': 1417, 'থপ': 811, 'অভদ': 52, 'হউক': 1499, 'ইউট': 178, 'উব': 284, 'গতম': 567, 'যসম': 1229, 'চইল': 611, 'জহ': 689, 'কৎস': 513, 'জড': 659, 'উপদ': 276, 'মইত': 1121, 'যঙ': 1199, 'গচ': 544, 'শনট': 1372, 'ইকব': 185, 'সহকর': 1482, 'মও': 1123, '৭৯': 1660, '১০ম': 1574, 'জনগ': 666, 'ণত': 766, 'নপক': 902, '২২': 1610, '১৭': 1591, 'গফক': 573, '৭৬': 1658, 'য়ও': 1548, 'দরব': 844, 'অবত': 42, 'থম': 813, 'য়রপ': 1564, 'নজন': 890, 'এসমস': 390, 'রথশ': 1265, '২১৫': 1609, '৫৯': 1648, 'আজব': 112, 'পস': 983, 'সটল': 1436, 'জলস': 686, 'টকশ': 712, 'গড়': 588, 'হইত': 1493, 'ওম': 418, 'ছদ': 642, 'দলব': 850, 'টদ': 718, 'এজ': 345, 'গণশত': 563, 'শনক': 1370, 'তখ': 774, '১৩': 1583, 'সছ': 1431, '৫৩৯': 1645, 'ডব': 753, 'সকর': 1423, 'সমগ': 1463, 'রতই': 1257, 'নহ': 928, 'আকল': 97, 'রহণ': 1306, 'ভস': 1115, 'দরজ': 843, 'হয়ছ': 1531, 'আইজ': 76, 'সবই': 1452, 'ররফই': 1294, 'রমব': 1291, 'হয়ত': 1532, 'পয়স': 994, 'কমন': 485, 'আঞ': 115, 'হয়র': 1534, 'খট': 522, 'ফন': 1001, 'মরদ': 1171, 'অয়ন': 72, 'অল': 57, 'পপ': 959, 'এমব': 371, 'বজ': 1035, 'ষহ': 1414, 'মনড': 1155, 'দলমত': 851, 'সফল': 1450, 'সরবত': 1475, 'ওইট': 402, 'সসচ': 1481, 'এহ': 391, 'এয়': 393, 'অথব': 21, 'ষণপ': 1402, 'পড়ই': 986, 'থরস': 815, 'গণধর': 560, 'অসহ': 68, 'জধ': 663, 'ঠপ': 741, 'ষকত': 1394, 'যমর': 1225, 'বখশ': 1028, 'রমজ': 1287, 'সউদ': 1420, 'বতল': 1044, 'বইল': 1016, 'একত': 325, 'রদর': 1268, 'উপজ': 275, 'অদ': 22, 'সহব': 1484, 'শজ': 1362, 'নসট': 924, 'য়হ': 1566, '৭৫': 1657, 'গডফ': 554, 'উপব': 277, 'ইনভ': 210, 'ইষষ': 236, 'নওম': 881, 'যতন': 1209, '৩৩': 1628, 'পশন': 981, 'মভ': 1163, 'ছট': 640, 'ঈস': 250, 'নপল': 903, 'নসর': 926, 'দকসহ': 822, '১২': 1580, 'লবণ': 1341, 'ভল': 1114, 'আফ': 136, 'টyর': 707, 'চপ': 621, 'টy': 706, 'রমণ': 1288, 'আরবদ': 153, 'এনজ': 358, 'ফরজ': 1005, 'উড়': 299, 'ইনও': 201, 'রঙঢঙ': 1244, 'এইজন': 309, 'ইউএনওর': 177, 'উপস': 279, 'নবদম': 906, 'মদসহ': 1150, 'এরকমই': 375, 'হড়হড়': 1530, 'জনই': 664, 'কশন': 507, 'সওয়': 1421, 'ইড়': 245, 'রসগ': 1299, '৪৫': 1640, 'আধমর': 124, 'উধ': 269, 'দজ': 827, 'ঠনক': 740, 'রগচট': 1241, 'হকক': 1504, 'মদপ': 1149, 'দyইভ': 817, 'গট': 549, 'নসকন': 923, 'ষকন': 1396, 'আইজক': 77, 'গজ': 546, 'ঘশ': 605, 'অবক': 40, 'কটস': 458, '১৯২': 1595, 'ইওভ': 182, 'সৎম': 1488, 'এইখ': 305, 'তপক': 787, 'কয': 488, 'রকর': 1238, 'মট': 1138, 'পছ': 940, 'জনগণও': 668, 'কবয়': 480, 'খম': 534, 'খলন': 538, 'আনত': 127, 'বনক': 1051, 'একসময়': 338, '৬৯': 1652, 'কইব': 438, 'ময়ন': 1189, 'তদন': 784, 'শলগত': 1385, 'তভর': 794, 'খটখট': 523, 'কইচ': 435, 'হটছ': 1509, 'ঐত': 397, 'রঘ': 1243, 'ঙব': 610, 'থকভ': 807, 'অধম': 24, 'গভর': 577, 'ণর': 768, 'কফ': 474, 'চঞ': 616, 'šধ': 4, 'কলক': 500, 'তখনই': 775, 'আশঙ': 161, 'মছ': 1134, 'লইগ': 1317, 'খতম': 526, 'অবহ': 49, 'তই': 770, 'ধরছ': 872, 'লপট': 1338, 'ললন': 1348, 'ডলস': 759, 'ডফ': 752, 'আবছ': 139, 'এসএসএফ': 384, 'নবধ': 907, 'করন': 493, '৭৭': 1659, 'লভদ': 1344, '৩৬': 1632, '৪৪': 1639, 'পহ': 984, '২৭': 1616, 'টরদ': 732, 'তবত': 792, 'বরক': 1064, 'আরশ': 155, 'সশস': 1479, 'দমত': 839, 'দলট': 849, '৪৫০': 1641, 'ওমন': 419, 'অইল': 6, 'ওঝ': 407, 'লইয়': 1319, 'রণক': 1254, 'সময়ই': 1469, 'হহত': 1529, 'বরজ': 1067, 'ইমপ': 224, 'কনডম': 470, 'ঝসড়': 703, 'আফর': 137, 'কবরস': 478, 'ফরম': 1006, 'হতব': 1512, 'মনয': 1157, 'রতর': 1261, 'অচ': 13, 'থণ': 809, 'যবধ': 1220, 'ওইয': 403, 'উড়ল': 301, 'একদমই': 329, 'খৎন': 539, 'পরবর': 973, '২৪': 1613, '১৯৭০': 1597, 'ণহ': 769, 'তদ': 783, 'নড়ল': 930, 'জছ': 656, 'শয়': 1390, 'নসন': 925, 'ইকম': 186, 'আমন': 146, 'ঐইড': 394, 'ণগ': 763, 'ওভ': 417, 'জনর': 675, 'লইত': 1318, 'তখনক': 776, '১১০': 1579, 'বরণ': 1068, 'ছগ': 639, 'ঘবদ': 600, 'ছয়গ': 649, 'পরপর': 971, 'গঠ': 550, 'বলম': 1080, 'ঝক': 692, 'তসহ': 805, 'মদক': 1146, 'নবত': 905, '৫১': 1644, '৫৭': 1647, 'পথভ': 950, 'ইরকম': 227, 'বইস': 1017, 'নতন': 897, 'পয়': 993, 'যট': 1201, 'ইগ': 188, 'এজন': 346, 'অবয়বট': 50, 'ঘদ': 596, 'ঘরজ': 602, 'অহন': 71, 'তফ': 788, 'ইমদ': 223, 'খপ': 529, 'ইফত': 217, 'দআত': 818, 'বগ': 1029, 'তবই': 790, 'অসভ': 65, 'ষরন': 1412, '২০২০': 1607, 'বশ': 1082, 'ঠর': 742, 'কতভ': 466, 'জনগণক': 669, '১০ট': 1573, 'মহব': 1183, 'রহণক': 1307, '৩০': 1623, 'লতপ': 1333, 'বলও': 1074, 'ওয়র': 430, 'লকর': 1322, 'এহন': 392, 'য়ট': 1553, 'শখ': 1359, 'ঘটক': 593, 'পলক': 978, 'কমছ': 484, 'বউম': 1022, '৩৪৩': 1630, 'রপক': 1275, 'ৎন': 1536, 'শনগ': 1371, 'পরই': 964, '১৯৯৭': 1600, 'বড়দ': 1095, 'ধহয়': 877, 'ইশর': 235, 'নখ': 884, 'বসত': 1085, 'সময়মত': 1470, 'আচমক': 105, 'উভয়': 285, 'জনগনক': 671, '৪০০': 1636, 'ওৎন': 427, 'গগ': 542, 'কঞ': 453, 'পম': 963, 'করপ': 494, 'ঝরল': 701, 'ঐদ': 398, 'ঔষধ': 432, 'ওখ': 405, 'হতভ': 1513, 'ড়ত': 1542, 'টবয়': 728, 'আইত': 80, 'আজহ': 114, 'উই': 251, 'কসময়': 512, 'পদদল': 955, 'আপনজন': 134, 'নদফ': 900, 'ঈদট': 248, 'মতব': 1143, 'কবল': 479, 'খবরদ': 533, 'তরম': 801, 'পও': 934, 'এরই': 373, 'গলচ': 584, 'সইর': 1418, 'মতন': 1142, 'কটসহ': 459, 'রসভ': 1301, 'পবক': 961, 'গড': 553, 'চলচ': 628, 'সতত': 1439, 'আনস': 131, 'খবরত': 532, 'ডউইথ': 743, 'সকষ': 1425, 'দমন': 840, 'টধ': 719, 'বনদপ': 1053, 'ড়ক': 1538, 'উইশ': 252, 'রহস': 1313, 'সমক': 1462, 'গঠনট': 552, 'শকত': 1358, 'উফ': 281, 'শস': 1387, 'মকহ': 1127, 'হইন': 1494, '২০০১': 1604, 'ষস': 1413, 'ডজ': 746, '৩৫': 1631, '১৮০০': 1593, 'হকদ': 1505, 'গঙ': 543, 'ড়স': 1547, 'বরখ': 1065, 'পরত': 969, 'নতম': 898, 'উৎস': 297, 'টহ': 735, 'পটপ': 945, 'রয়দ': 1315, 'আইক': 73, 'কসব': 510, 'ড়ঘন': 1539, 'ওরব': 420, 'তবচ': 791, 'ষজ': 1399, 'হলপ': 1526, 'মরত': 1170, 'হদ': 1514, 'ইনদ': 207, 'মওয়': 1124, 'uদ': 0, 'পরম': 974, '৬৭': 1651, 'পইড়': 933, 'নড': 895, 'সচ': 1428, 'নযর': 913, 'হতচ': 1511, 'নজরই': 892, 'ভড়': 1117, 'পঞ': 943, 'চম': 623, 'ঝন': 698, 'কনস': 472, 'রদত': 1267, 'তরণ': 799, 'তরনক': 800, '৮২': 1662, '২৯৩': 1619, 'রহর': 1312, 'ঢঙ': 762, 'ফইন': 995, 'বরত': 1069, 'য়ড': 1554, 'আইপ': 83, 'অখ': 8, 'ঐসব': 401, 'যবই': 1218, '১৯': 1594, 'বইছ': 1013, 'বইট': 1014, 'টও': 708, 'মনই': 1153, 'সখ': 1426, 'হবধ': 1518, '৫৪': 1646, 'কনর': 471, 'মঘ': 1131, 'বটগ': 1039, 'আইজগ': 78, 'উনট': 272, 'ষখ': 1397, 'রপন': 1277, 'এরপরও': 379, 'সফলত': 1451, 'সনদগ': 1445, 'ণঠ': 765, 'আওয়ম': 93, 'বপর': 1057, 'কওয়': 443, 'অইদ': 5, 'এতবড়': 353, 'কজ': 450, 'উসক': 293, 'ফরওয়': 1004, 'একমত': 333, 'জনব': 674, '২৯৯': 1620, 'যঞ': 1200, '০০৫': 1568, 'বরফ': 1071, 'সঠ': 1437, 'দনগর': 832, 'ঐল': 399, 'যতট': 1207, 'অতট': 19, 'কলমগ': 504, 'মরব': 1173, 'এসকল': 386, 'ঘদন': 597, 'কলজ': 502, 'বতম': 1043, 'জপ': 678, 'কলস': 505, 'অড': 17, 'ঠগড়': 739, 'ধমক': 869, '১৯৪৮': 1596, 'তণক': 779, 'এসএমএস': 383, 'পদব': 956, '১৪৪': 1586, 'টওয়': 710, 'এমত': 368, 'সফর': 1449, 'থগ': 808, 'ইশক': 234, 'আমগ': 144, 'ডলব': 758, 'কগ': 446, 'রআউন': 1232, 'কয়দ': 519, 'মনস': 1158, 'বননগর': 1054, 'রসর': 1303, 'য়দর': 1557, '১২০': 1581, '১০০০': 1577, 'আকর': 96, 'নসহ': 927, 'ওফ': 415, 'এনসব': 360, 'এমস': 372, 'উৎখ': 296, 'দলই': 847, 'গনতন': 570, 'পদজ': 953, 'বহতম': 1090, 'দপত': 835, 'অবগ': 41, 'দগ': 825, 'সবট': 1457, 'এসবক': 389, 'রদল': 1269, 'সটন': 1435, 'বদভ': 1046, 'পষ': 982, 'খতন': 525, 'য়ড়যন': 1567, 'ইওর': 183, '৩৮': 1633, 'ততগ': 780, 'একহ': 339, 'একজনই': 323, 'শবন': 1378, 'মনব': 1156, 'এদর': 355, 'ঐশ': 400, 'সরর': 1476, 'কড': 461, 'এনআরস': 357, 'জনগণ': 667, '৩০০০': 1625, 'তরঙ': 798, 'চরমপন': 626, 'শধরদ': 1368, 'খচ': 520}\n",
            "['uদ', 'ñঅফ', 'ñম', 'œব', 'šধ', 'অইদ', 'অইল', 'অক', 'অখ', 'অখন', 'অগ', 'অঘ', 'অঙ', 'অচ', 'অজ', 'অঞ', 'অট', 'অড', 'অত', 'অতট', 'অথ', 'অথব', 'অদ', 'অধ', 'অধম', 'অধর', 'অন', 'অনন', 'অনভ', 'অনল', 'অনশন', 'অপ', 'অপকর', 'অপঘ', 'অপম', 'অপর', 'অপরক', 'অপহরণ', 'অফ', 'অব', 'অবক', 'অবগ', 'অবত', 'অবনত', 'অবম', 'অবর', 'অবল', 'অবশ', 'অবস', 'অবহ', 'অবয়বট', 'অভ', 'অভদ', 'অম', 'অয', 'অযথ', 'অর', 'অল', 'অলট', 'অলর', 'অলসত', 'অশ', 'অস', 'অসত', 'অসন', 'অসভ', 'অসম', 'অসময়', 'অসহ', 'অসৎ', 'অহ', 'অহন', 'অয়ন', 'আইক', 'আইকন', 'আইছ', 'আইজ', 'আইজক', 'আইজগ', 'আইড', 'আইত', 'আইন', 'আইনজ', 'আইপ', 'আইফ', 'আইল', 'আইস', 'আইসক', 'আইসব', 'আউচ', 'আউট', 'আওত', 'আওয়', 'আওয়ম', 'আক', 'আকবর', 'আকর', 'আকল', 'আখ', 'আগ', 'আগমন', 'আগস', 'আঘ', 'আঙ', 'আচ', 'আচমক', 'আচরণ', 'আচরন', 'আছ', 'আজও', 'আজক', 'আজত', 'আজব', 'আজবত', 'আজহ', 'আঞ', 'আটক', 'আঠ', 'আড', 'আত', 'আতঙ', 'আদ', 'আদর', 'আধ', 'আধমর', 'আন', 'আনছ', 'আনত', 'আনন', 'আনব', 'আনল', 'আনস', 'আপ', 'আপন', 'আপনজন', 'আপল', 'আফ', 'আফর', 'আব', 'আবছ', 'আবদ', 'আবর', 'আবশ', 'আম', 'আমগ', 'আমদ', 'আমন', 'আমর', 'আমরণ', 'আমল', 'আয', 'আরক', 'আরব', 'আরবদ', 'আরম', 'আরশ', 'আল', 'আলগ', 'আলম', 'আলহ', 'আশ', 'আশঙ', 'আস', 'আসছ', 'আসত', 'আসব', 'আসম', 'আসর', 'আসল', 'আসস', 'আহ', 'আহত', 'আহম', 'আহমদ', 'আয়', 'আয়ন', 'ইউ', 'ইউএনওর', 'ইউট', 'ইউন', 'ইউর', 'ইও', 'ইওভ', 'ইওর', 'ইক', 'ইকব', 'ইকম', 'ইখ', 'ইগ', 'ইঙ', 'ইচ', 'ইছ', 'ইজ', 'ইজন', 'ইঞ', 'ইট', 'ইড', 'ইত', 'ইদ', 'ইদহ', 'ইন', 'ইনও', 'ইনক', 'ইনঘ', 'ইনচ', 'ইনজ', 'ইনট', 'ইনদ', 'ইনব', 'ইনবক', 'ইনভ', 'ইনম', 'ইনর', 'ইনশ', 'ইনস', 'ইপ', 'ইফ', 'ইফত', 'ইব', 'ইবল', 'ইভ', 'ইম', 'ইমত', 'ইমদ', 'ইমপ', 'ইমর', 'ইর', 'ইরকম', 'ইরফ', 'ইল', 'ইলচ', 'ইলট', 'ইলস', 'ইশ', 'ইশক', 'ইশর', 'ইষষ', 'ইস', 'ইসকন', 'ইসকনক', 'ইসন', 'ইসব', 'ইসর', 'ইসল', 'ইহ', 'ইড়', 'ইয়', 'ঈদ', 'ঈদট', 'ঈম', 'ঈস', 'উই', 'উইশ', 'উইয়', 'উক', 'উগ', 'উচ', 'উজ', 'উজফ', 'উট', 'উঠ', 'উঠছ', 'উঠত', 'উঠব', 'উঠল', 'উড', 'উত', 'উদ', 'উদঘ', 'উধ', 'উন', 'উনগ', 'উনট', 'উপ', 'উপক', 'উপজ', 'উপদ', 'উপব', 'উপভ', 'উপস', 'উপহ', 'উফ', 'উফফ', 'উফফফ', 'উব', 'উভয়', 'উম', 'উর', 'উল', 'উলঙ', 'উশন', 'উষ', 'উস', 'উসক', 'উহ', 'উৎকন', 'উৎখ', 'উৎস', 'উৎসব', 'উড়', 'উড়ন', 'উড়ল', 'উয়', 'ঋণ', 'এইক', 'এইখ', 'এইগ', 'এইচ', 'এইচএসস', 'এইজন', 'এইট', 'এইড', 'এইডস', 'এইত', 'এইদ', 'এইব', 'এইভ', 'এইয', 'এইরকম', 'এইসব', 'এইহ', 'এক', 'একজন', 'একজনই', 'একট', 'একত', 'একথ', 'একদ', 'একদম', 'একদমই', 'একদল', 'একব', 'একম', 'একমত', 'একরকম', 'একল', 'একলগ', 'একস', 'একসময়', 'একহ', 'এখ', 'এখনই', 'এখনক', 'এগ', 'এছ', 'এজ', 'এজন', 'এট', 'এড', 'এডম', 'এতই', 'এতক', 'এতদ', 'এতবড়', 'এদ', 'এদর', 'এন', 'এনআরস', 'এনজ', 'এনপ', 'এনসব', 'এপ', 'এফ', 'এফব', 'এবনরম', 'এভ', 'এম', 'এমক', 'এমত', 'এমনই', 'এমপ', 'এমব', 'এমস', 'এরই', 'এরকম', 'এরকমই', 'এরকমও', 'এরদ', 'এরপর', 'এরপরও', 'এরশ', 'এসআই', 'এসএফ', 'এসএমএস', 'এসএসএফ', 'এসএসস', 'এসকল', 'এসছ', 'এসব', 'এসবক', 'এসমস', 'এহ', 'এহন', 'এয়', 'ঐইড', 'ঐক', 'ঐখ', 'ঐত', 'ঐদ', 'ঐল', 'ঐশ', 'ঐসব', 'ওইট', 'ওইয', 'ওক', 'ওখ', 'ওজন', 'ওঝ', 'ওট', 'ওঠ', 'ওত', 'ওদ', 'ওন', 'ওপ', 'ওপর', 'ওফ', 'ওব', 'ওভ', 'ওম', 'ওমন', 'ওরব', 'ওল', 'ওলট', 'ওষ', 'ওস', 'ওসব', 'ওহ', 'ওৎন', 'ওড়ন', 'ওয়', 'ওয়র', 'ঔদ', 'ঔষধ', 'কআপ', 'কই', 'কইচ', 'কইছ', 'কইত', 'কইব', 'কইর', 'কইল', 'কইস', 'কও', 'কওয়', 'কক', 'কখন', 'কগ', 'কঙ', 'কচ', 'কছ', 'কজ', 'কজন', 'কজনক', 'কঞ', 'কট', 'কটক', 'কটকট', 'কটবর', 'কটস', 'কটসহ', 'কঠ', 'কড', 'কতগ', 'কতট', 'কতদ', 'কতব', 'কতভ', 'কথ', 'কদ', 'কন', 'কনডম', 'কনর', 'কনস', 'কপ', 'কফ', 'কব', 'কবর', 'কবরট', 'কবরস', 'কবল', 'কবয়', 'কবয়দ', 'কভ', 'কম', 'কমছ', 'কমন', 'কমল', 'কময়', 'কয', 'কর', 'করছ', 'করণ', 'করত', 'করন', 'করপ', 'করব', 'করম', 'করল', 'করস', 'কল', 'কলক', 'কলঙ', 'কলজ', 'কলম', 'কলমগ', 'কলস', 'কশ', 'কশন', 'কষ', 'কস', 'কসব', 'কসম', 'কসময়', 'কৎস', 'কড়', 'কঢ়', 'কয়', 'কয়ট', 'কয়ড', 'কয়দ', 'খচ', 'খছ', 'খট', 'খটখট', 'খত', 'খতন', 'খতম', 'খদ', 'খন', 'খপ', 'খব', 'খবর', 'খবরত', 'খবরদ', 'খম', 'খর', 'খরচ', 'খল', 'খলন', 'খৎন', 'খয়র', 'গক', 'গগ', 'গঙ', 'গচ', 'গছ', 'গজ', 'গজব', 'গজলড', 'গট', 'গঠ', 'গঠন', 'গঠনট', 'গড', 'গডফ', 'গণ', 'গণআন', 'গণজ', 'গণতন', 'গণধ', 'গণধর', 'গণপ', 'গণপর', 'গণশত', 'গণহত', 'গত', 'গতক', 'গতম', 'গদ', 'গন', 'গনতন', 'গপ', 'গফ', 'গফক', 'গব', 'গবন', 'গভ', 'গভর', 'গম', 'গর', 'গরণ', 'গরন', 'গরম', 'গল', 'গলচ', 'গলব', 'গস', 'গহ', 'গড়', 'গয়', 'ঘই', 'ঘও', 'ঘট', 'ঘটক', 'ঘটন', 'ঘটল', 'ঘদ', 'ঘদন', 'ঘন', 'ঘব', 'ঘবদ', 'ঘর', 'ঘরজ', 'ঘরপ', 'ঘলদ', 'ঘশ', 'ঘস', 'ঘড়', 'ঘড়ব', 'ঙচ', 'ঙব', 'চইল', 'চওয়', 'চক', 'চকব', 'চকল', 'চঞ', 'চট', 'চত', 'চতর', 'চন', 'চপ', 'চব', 'চম', 'চর', 'চরম', 'চরমপন', 'চল', 'চলচ', 'চলছ', 'চলত', 'চলব', 'চলল', 'চশত', 'চশম', 'চড়', 'চয়', 'চয়ই', 'ছক', 'ছগ', 'ছট', 'ছটফট', 'ছদ', 'ছন', 'ছব', 'ছল', 'ছস', 'ছড়', 'ছয়', 'ছয়গ', 'জক', 'জকত', 'জগ', 'জগত', 'জঘন', 'জঙ', 'জছ', 'জজ', 'জট', 'জড', 'জণগন', 'জত', 'জদ', 'জধ', 'জনই', 'জনক', 'জনগ', 'জনগণ', 'জনগণও', 'জনগণক', 'জনগন', 'জনগনক', 'জনত', 'জনপ', 'জনব', 'জনর', 'জনশ', 'জনস', 'জপ', 'জপথ', 'জব', 'জম', 'জর', 'জল', 'জলক', 'জলপর', 'জলস', 'জশ', 'জশন', 'জহ', 'জড়', 'জয়', 'ঝক', 'ঝখ', 'ঝগড়', 'ঝছ', 'ঝট', 'ঝত', 'ঝন', 'ঝব', 'ঝর', 'ঝরল', 'ঝল', 'ঝসড়', 'ঝড়', 'ঞস', 'টy', 'টyর', 'টও', 'টওভ', 'টওয়', 'টক', 'টকশ', 'টগ', 'টঘ', 'টচ', 'টট', 'টত', 'টদ', 'টধ', 'টধর', 'টন', 'টপ', 'টপত', 'টফ', 'টব', 'টবদ', 'টবল', 'টবয়', 'টভ', 'টম', 'টর', 'টরদ', 'টল', 'টস', 'টহ', 'টয়', 'টয়ল', 'ঠক', 'ঠগড়', 'ঠনক', 'ঠপ', 'ঠর', 'ডউইথ', 'ডক', 'ডগ', 'ডজ', 'ডট', 'ডদ', 'ডন', 'ডপ', 'ডপর', 'ডফ', 'ডব', 'ডম', 'ডর', 'ডল', 'ডলক', 'ডলব', 'ডলস', 'ডশ', 'ডস', 'ঢঙ', 'ণগ', 'ণচর', 'ণঠ', 'ণত', 'ণন', 'ণর', 'ণহ', 'তই', 'তক', 'তকদ', 'তকম', 'তখ', 'তখনই', 'তখনক', 'তগ', 'তট', 'তণক', 'ততগ', 'ততদ', 'তথ', 'তদ', 'তদন', 'তন', 'তপ', 'তপক', 'তফ', 'তব', 'তবই', 'তবচ', 'তবত', 'তভ', 'তভর', 'তম', 'তর', 'তরক', 'তরঙ', 'তরণ', 'তরনক', 'তরম', 'তল', 'তলট', 'তলত', 'তসহ', 'থক', 'থকভ', 'থগ', 'থণ', 'থন', 'থপ', 'থব', 'থম', 'থর', 'থরস', 'থল', 'দyইভ', 'দআত', 'দই', 'দও', 'দক', 'দকসহ', 'দখ', 'দখল', 'দগ', 'দছ', 'দজ', 'দট', 'দত', 'দদ', 'দন', 'দনগর', 'দনময়', 'দপ', 'দপত', 'দফ', 'দব', 'দম', 'দমত', 'দমন', 'দর', 'দরক', 'দরজ', 'দরব', 'দরবন', 'দল', 'দলই', 'দলক', 'দলট', 'দলব', 'দলমত', 'দশ', 'দশক', 'দশট', 'দহয়', 'দড়', 'দয়', 'ধy', 'ধই', 'ধইর', 'ধইল', 'ধক', 'ধট', 'ধত', 'ধদ', 'ধন', 'ধপ', 'ধব', 'ধমক', 'ধর', 'ধরক', 'ধরছ', 'ধরত', 'ধরন', 'ধরব', 'ধরল', 'ধহয়', 'নই', 'নইল', 'নও', 'নওম', 'নক', 'নকল', 'নখ', 'নগ', 'নগর', 'নচ', 'নছ', 'নজ', 'নজন', 'নজর', 'নজরই', 'নঝ', 'নট', 'নড', 'নত', 'নতন', 'নতম', 'নদ', 'নদফ', 'নন', 'নপক', 'নপল', 'নব', 'নবত', 'নবদম', 'নবধ', 'নববন', 'নভ', 'নম', 'নমত', 'নমন', 'নযর', 'নর', 'নরপশ', 'নরম', 'নল', 'নশ', 'নশট', 'নশন', 'নষ', 'নস', 'নসকন', 'নসট', 'নসন', 'নসর', 'নসহ', 'নহ', 'নড়', 'নড়ল', 'নয়ত', 'নয়ন', 'পইড়', 'পও', 'পক', 'পকথন', 'পকর', 'পঙ', 'পচ', 'পছ', 'পছন', 'পজ', 'পঞ', 'পট', 'পটপ', 'পণ', 'পত', 'পতন', 'পথ', 'পথভ', 'পদ', 'পদচ', 'পদজ', 'পদত', 'পদদল', 'পদব', 'পন', 'পনর', 'পপ', 'পব', 'পবক', 'পবত', 'পম', 'পরই', 'পরও', 'পরক', 'পরছ', 'পরট', 'পরত', 'পরদ', 'পরপর', 'পরব', 'পরবর', 'পরম', 'পরল', 'পরশ', 'পল', 'পলক', 'পলস', 'পশ', 'পশন', 'পষ', 'পস', 'পহ', 'পড়', 'পড়ই', 'পড়ছ', 'পড়ত', 'পড়ন', 'পড়ব', 'পড়ল', 'পড়স', 'পয়', 'পয়স', 'ফইন', 'ফক', 'ফজর', 'ফজল', 'ফট', 'ফত', 'ফন', 'ফফ', 'ফর', 'ফরওয়', 'ফরজ', 'ফরম', 'ফল', 'ফলম', 'ফসল', 'ফয়', 'বই', 'বইগ', 'বইছ', 'বইট', 'বইন', 'বইল', 'বইস', 'বইয়', 'বউ', 'বউক', 'বউট', 'বউম', 'বউয়', 'বক', 'বকক', 'বকদ', 'বখ', 'বখশ', 'বগ', 'বগঞ', 'বগল', 'বঙ', 'বছ', 'বছর', 'বজ', 'বজন', 'বজনপ', 'বট', 'বটগ', 'বটম', 'বড', 'বত', 'বতম', 'বতল', 'বদ', 'বদভ', 'বদম', 'বদল', 'বদহজম', 'বধ', 'বনক', 'বনট', 'বনদপ', 'বননগর', 'বনয', 'বপ', 'বপর', 'বফ', 'বব', 'বভ', 'বম', 'বর', 'বরই', 'বরক', 'বরখ', 'বরগ', 'বরজ', 'বরণ', 'বরত', 'বরন', 'বরফ', 'বল', 'বলই', 'বলও', 'বলছ', 'বলত', 'বলদ', 'বলদদ', 'বলব', 'বলম', 'বলর', 'বশ', 'বস', 'বসছ', 'বসত', 'বসব', 'বসল', 'বহ', 'বহত', 'বহতম', 'বহন', 'বহর', 'বড়', 'বড়ই', 'বড়দ', 'বড়ভ', 'বড়ল', 'বয়', 'বয়কট', 'বয়ফ', 'বয়স', 'ভক', 'ভগব', 'ভঙ', 'ভদ', 'ভন', 'ভপ', 'ভব', 'ভবক', 'ভবত', 'ভবন', 'ভর', 'ভরস', 'ভল', 'ভস', 'ভৎস', 'ভড়', 'ভয়', 'ভয়ঙ', 'মই', 'মইত', 'মইর', 'মও', 'মওয়', 'মক', 'মকর', 'মকহ', 'মখ', 'মগ', 'মগঞ', 'মঘ', 'মঙ', 'মচ', 'মছ', 'মজ', 'মজল', 'মঞ', 'মট', 'মঠ', 'মড', 'মত', 'মতন', 'মতব', 'মতলব', 'মদ', 'মদক', 'মদদ', 'মদন', 'মদপ', 'মদসহ', 'মধ', 'মন', 'মনই', 'মনট', 'মনড', 'মনব', 'মনয', 'মনস', 'মপ', 'মপক', 'মব', 'মবঙ', 'মভ', 'মম', 'মমত', 'মমভ', 'মমভব', 'মর', 'মরছ', 'মরত', 'মরদ', 'মরন', 'মরব', 'মরল', 'মল', 'মশ', 'মশকর', 'মস', 'মসজ', 'মসল', 'মহ', 'মহত', 'মহব', 'মহস', 'মহড়', 'মড়', 'ময়', 'ময়দ', 'ময়ন', 'ময়মনস', 'ময়ল', 'যই', 'যইদ', 'যক', 'যকর', 'যকশন', 'যখণ', 'যখনই', 'যঙ', 'যঞ', 'যট', 'যতœ', 'যতœসহক', 'যতই', 'যতক', 'যতগ', 'যতট', 'যতদ', 'যতন', 'যতম', 'যথ', 'যথন', 'যদ', 'যধর', 'যন', 'যপ', 'যব', 'যবই', 'যবদ', 'যবধ', 'যবস', 'যবহ', 'যম', 'যমন', 'যমর', 'যর', 'যশ', 'যস', 'যসম', 'যৎ', 'যয়', 'রআউন', 'রআন', 'রই', 'রইল', 'রও', 'রক', 'রকর', 'রখ', 'রগ', 'রগচট', 'রগত', 'রঘ', 'রঙঢঙ', 'রচ', 'রচন', 'রছ', 'রজ', 'রজন', 'রঞ', 'রট', 'রড', 'রণ', 'রণক', 'রণত', 'রত', 'রতই', 'রতক', 'রতন', 'রতব', 'রতর', 'রথ', 'রথম', 'রথমব', 'রথশ', 'রদ', 'রদত', 'রদর', 'রদল', 'রধ', 'রধর', 'রন', 'রনব', 'রপ', 'রপক', 'রপত', 'রপন', 'রপর', 'রপরও', 'রফ', 'রব', 'রবত', 'রবল', 'রভ', 'রম', 'রমই', 'রমজ', 'রমণ', 'রমত', 'রমন', 'রমব', 'রয', 'রর', 'ররফই', 'রল', 'রশ', 'রষ', 'রস', 'রসগ', 'রসফ', 'রসভ', 'রসম', 'রসর', 'রসহ', 'রহ', 'রহণ', 'রহণক', 'রহন', 'রহনক', 'রহম', 'রহমত', 'রহর', 'রহস', 'রয়', 'রয়দ', 'লই', 'লইগ', 'লইত', 'লইয়', 'লক', 'লকড', 'লকর', 'লখ', 'লগ', 'লগঞ', 'লঘ', 'লচ', 'লছ', 'লজ', 'লট', 'লড', 'লত', 'লতপ', 'লদ', 'লন', 'লনক', 'লপ', 'লপট', 'লফ', 'লব', 'লবণ', 'লবন', 'লভ', 'লভদ', 'লম', 'লর', 'লল', 'ললন', 'লশ', 'লশয', 'লস', 'লসজ', 'লহ', 'লড়', 'লয়', 'শই', 'শক', 'শকত', 'শখ', 'শগ', 'শঙ', 'শজ', 'শট', 'শত', 'শতল', 'শদ', 'শধ', 'শধরদ', 'শন', 'শনক', 'শনগ', 'শনট', 'শপ', 'শপত', 'শপথ', 'শফ', 'শব', 'শবন', 'শমন', 'শর', 'শরবত', 'শরম', 'শরৎক', 'শল', 'শলগত', 'শশ', 'শস', 'শহ', 'শহর', 'শয়', 'শয়ত', 'ষই', 'ষক', 'ষকত', 'ষকদ', 'ষকন', 'ষখ', 'ষগ', 'ষজ', 'ষট', 'ষণ', 'ষণপ', 'ষত', 'ষদ', 'ষদর', 'ষন', 'ষব', 'ষম', 'ষমত', 'ষর', 'ষরণ', 'ষরন', 'ষস', 'ষহ', 'ষড়যন', 'ষয়', 'ষয়ট', 'সইর', 'সইস', 'সউদ', 'সওয়', 'সক', 'সকর', 'সকল', 'সকষ', 'সখ', 'সঙ', 'সচ', 'সচর', 'সচল', 'সছ', 'সজ', 'সঞ', 'সট', 'সটন', 'সটল', 'সঠ', 'সত', 'সতত', 'সতর', 'সথ', 'সদ', 'সদস', 'সন', 'সনদগ', 'সনস', 'সপ', 'সফ', 'সফর', 'সফল', 'সফলত', 'সবই', 'সবক', 'সবগ', 'সবচ', 'সবজ', 'সবট', 'সবথ', 'সবসময়', 'সভ', 'সম', 'সমক', 'সমগ', 'সমবয়স', 'সময', 'সমর', 'সমস', 'সময়', 'সময়ই', 'সময়মত', 'সর', 'সরক', 'সরঘর', 'সরব', 'সরবত', 'সরর', 'সল', 'সলম', 'সশস', 'সস', 'সসচ', 'সহকর', 'সহজ', 'সহব', 'সহমত', 'সহয', 'সৎ', 'সৎম', 'সড়ক', 'সয়', 'হই', 'হইছ', 'হইত', 'হইন', 'হইব', 'হইল', 'হইস', 'হইয়', 'হউক', 'হও', 'হওয়', 'হওয়র', 'হক', 'হকক', 'হকদ', 'হচ', 'হজ', 'হট', 'হটছ', 'হঠ', 'হতচ', 'হতব', 'হতভ', 'হদ', 'হপ', 'হফ', 'হব', 'হবধ', 'হম', 'হয', 'হযরত', 'হর', 'হরত', 'হরপ', 'হরল', 'হলপ', 'হস', 'হসপ', 'হহত', 'হড়হড়', 'হয়ছ', 'হয়ত', 'হয়ন', 'হয়র', 'ৎক', 'ৎন', 'ৎস', 'ড়ক', 'ড়ঘন', 'ড়ঙ', 'ড়ছ', 'ড়ত', 'ড়ন', 'ড়ব', 'ড়ম', 'ড়ল', 'ড়স', 'য়ও', 'য়ক', 'য়খ', 'য়গ', 'য়জন', 'য়ট', 'য়ড', 'য়ত', 'য়দ', 'য়দর', 'য়ন', 'য়নগঞ', 'য়নব', 'য়ব', 'য়ভ', 'য়র', 'য়রপ', 'য়লগ', 'য়হ', 'য়ড়যন', '০০৫', '০১', '০৫৯', '১ম', '১০', '১০ট', '১০ম', '১০০', '১০০দ', '১০০০', '১১', '১১০', '১২', '১২০', '১২০০০', '১৩', '১৩৬', '১৪', '১৪৪', '১৪৫০০', '১৫', '১৬', '১৬১০৮', '১৭', '১৮', '১৮০০', '১৯', '১৯২', '১৯৪৮', '১৯৭০', '১৯৭১', '১৯৭৭', '১৯৯৭', '২য়', '২০', '২০০', '২০০১', '২০০৬', '২০১৯', '২০২০', '২১', '২১৫', '২২', '২৩', '২৩৮', '২৪', '২৫', '২৬', '২৭', '২৮', '২৯', '২৯৩', '২৯৯', '৩শ', '৩য়', '৩০', '৩০০', '৩০০০', '৩০০০০', '৩১', '৩৩', '৩৪', '৩৪৩', '৩৫', '৩৬', '৩৮', '৩৯', '৪০', '৪০০', '৪১৩', '৪১৮৬', '৪৪', '৪৫', '৪৫০', '৫০', '৫০০', '৫১', '৫৩৯', '৫৪', '৫৭', '৫৯', '৬০', '৬৫', '৬৭', '৬৯', '৭০', '৭০০০', '৭১', '৭২', '৭৫', '৭৬', '৭৭', '৭৯', '৮০', '৮২', '৯০', '৯৮', '৯৯']\n"
          ]
        },
        {
          "output_type": "stream",
          "name": "stderr",
          "text": [
            "/usr/local/lib/python3.8/dist-packages/sklearn/utils/deprecation.py:87: FutureWarning: Function get_feature_names is deprecated; get_feature_names is deprecated in 1.0 and will be removed in 1.2. Please use get_feature_names_out instead.\n",
            "  warnings.warn(msg, category=FutureWarning)\n"
          ]
        }
      ],
      "source": [
        "# Instantiate the TF-IDF method\n",
        "tfidf_vectorizer = TfidfVectorizer(stop_words = stopwords)\n",
        "\n",
        "# Fit the training data and then return the matrix\n",
        "training_data = tfidf_vectorizer.fit_transform(X_train)\n",
        "df = pd.DataFrame(training_data.toarray(), columns=tfidf_vectorizer.get_feature_names())\n",
        "# df.head()\n",
        "\n",
        "print (tfidf_vectorizer.vocabulary_)\n",
        "dictionary = sorted(tfidf_vectorizer.vocabulary_)\n",
        "\n",
        "print(dictionary)"
      ]
    },
    {
      "cell_type": "code",
      "source": [
        "# Transform testing data and return the matrix. Note we are not fitting the testing data into the TfIdfVectorizer()\n",
        "testing_data = tfidf_vectorizer.transform(X_test)"
      ],
      "metadata": {
        "id": "-RXzQXHWLwca"
      },
      "execution_count": null,
      "outputs": []
    },
    {
      "cell_type": "code",
      "execution_count": null,
      "metadata": {
        "id": "-4sWERhq3233"
      },
      "outputs": [],
      "source": [
        "def pipeline(learner_list, X_train, y_train, X_test, y_test): \n",
        "    '''\n",
        "    inputs:\n",
        "       - learner: the learning algorithm to be trained and predicted on\n",
        "       - X_train: features training set\n",
        "       - y_train: income training set\n",
        "       - X_test: features testing set\n",
        "       - y_test: income testing set\n",
        "    '''\n",
        "    \n",
        "    # Get length of Training Data:\n",
        "    size = len(y_train)\n",
        "    \n",
        "    results = {}\n",
        "    final_results = []\n",
        "    \n",
        "    for learner in learner_list:\n",
        "        \n",
        "        # Store the learner name:\n",
        "        results['Algorithm'] = learner.__class__.__name__\n",
        "\n",
        "        # Fit the learner:\n",
        "        start = time() # Get start time\n",
        "        print(\"Training {}\".format(learner.__class__.__name__))\n",
        "        learner = learner.fit(X_train, y_train)\n",
        "        end = time() # Get end time\n",
        "\n",
        "        # Store the training time\n",
        "        results['Training Time'] = end - start\n",
        "\n",
        "        start = time() # Get start time\n",
        "        predictions_test = learner.predict(X_test)\n",
        "        predictions_train = learner.predict(X_train)\n",
        "        end = time() # Get end time\n",
        "\n",
        "        # probaility of prediction\n",
        "        y_score = learner.predict_proba(X_test)[:, 1] \n",
        "        \n",
        "        results['y_score_shape'] = y_score.shape\n",
        "\n",
        "        # ROC curve plotting\n",
        "        fpr, tpr, thresholds = roc_curve(y_test, y_score)\n",
        "        roc_auc = roc_auc_score(y_test, y_score)\n",
        "\n",
        "        plt.plot(fpr, tpr)\n",
        "        plt.xlabel('False Positive Rate')\n",
        "        plt.ylabel('True Positive Rate')\n",
        "        plt.title('ROC Curve (AUC = {:.2f})'.format(roc_auc))\n",
        "        plt.show()\n",
        "\n",
        "        results['roc_auc'] = roc_auc # ROC_AUC value\n",
        "\n",
        "        # store fpr, tpr value\n",
        "        results['fpr'] = fpr\n",
        "        results['tpr'] = tpr\n",
        "\n",
        "\n",
        "        # Store the prediction time\n",
        "        results['Prediction Time'] = end - start\n",
        "        \n",
        "        # Compute the Accuracy on Test Set\n",
        "        results['Accuracy: Test'] = accuracy_score(y_test, predictions_test)\n",
        "\n",
        "        # Compute the Accuracy on Training Set\n",
        "        results['Accuracy: Train'] = accuracy_score(y_train, predictions_train)\n",
        "\n",
        "        # Compute the F1 Score on Test Set\n",
        "        results['F1 Score: Test'] = f1_score(y_test, predictions_test)\n",
        "\n",
        "        # Compute the F1 Score on Training Set\n",
        "        results['F1 Score: Train'] = f1_score(y_train, predictions_train)\n",
        "\n",
        "        # Compute the Precision on Test Set\n",
        "        results['Precision: Test'] = precision_score(y_test, predictions_test)\n",
        "\n",
        "        # Compute the Precision on Training Set\n",
        "        results['Precision: Train'] = precision_score(y_train, predictions_train)\n",
        "\n",
        "        # Compute the Recall on Test Set\n",
        "        results['Recall: Test'] = recall_score(y_test, predictions_test)\n",
        "\n",
        "        # Compute the Recall on Training Set\n",
        "        results['Recall: Train'] = recall_score(y_train, predictions_train)\n",
        "\n",
        "        # Success\n",
        "        print(\"Training {} finished in {:.2f} sec\".format(learner.__class__.__name__, results['Training Time']))\n",
        "        print('----------------------------------------------------')\n",
        "        \n",
        "        final_results.append(results.copy())\n",
        "    # Return a dataframe of the results\n",
        "    return final_results"
      ]
    },
    {
      "cell_type": "code",
      "execution_count": null,
      "metadata": {
        "id": "txrHOcTW4wZ-",
        "colab": {
          "base_uri": "https://localhost:8080/",
          "height": 1000
        },
        "outputId": "7581cac1-936a-455a-e8ef-90f5d59c7e6b"
      },
      "outputs": [
        {
          "output_type": "stream",
          "name": "stdout",
          "text": [
            "Training MultinomialNB\n"
          ]
        },
        {
          "output_type": "display_data",
          "data": {
            "text/plain": [
              "<Figure size 432x288 with 1 Axes>"
            ],
            "image/png": "[encoded data removed]"
          },
          "metadata": {}
        },
        {
          "output_type": "stream",
          "name": "stdout",
          "text": [
            "Training MultinomialNB finished in 0.01 sec\n",
            "----------------------------------------------------\n",
            "Training DecisionTreeClassifier\n"
          ]
        },
        {
          "output_type": "display_data",
          "data": {
            "text/plain": [
              "<Figure size 432x288 with 1 Axes>"
            ],
            "image/png": "[encoded data removed]"
          },
          "metadata": {}
        },
        {
          "output_type": "stream",
          "name": "stdout",
          "text": [
            "Training DecisionTreeClassifier finished in 0.18 sec\n",
            "----------------------------------------------------\n",
            "Training RandomForestClassifier\n"
          ]
        },
        {
          "output_type": "display_data",
          "data": {
            "text/plain": [
              "<Figure size 432x288 with 1 Axes>"
            ],
            "image/png": "[encoded data removed]"
          },
          "metadata": {}
        },
        {
          "output_type": "stream",
          "name": "stdout",
          "text": [
            "Training RandomForestClassifier finished in 1.47 sec\n",
            "----------------------------------------------------\n",
            "Training LogisticRegression\n"
          ]
        },
        {
          "output_type": "display_data",
          "data": {
            "text/plain": [
              "<Figure size 432x288 with 1 Axes>"
            ],
            "image/png": "[encoded data removed]"
          },
          "metadata": {}
        },
        {
          "output_type": "stream",
          "name": "stdout",
          "text": [
            "Training LogisticRegression finished in 0.04 sec\n",
            "----------------------------------------------------\n",
            "Training KNeighborsClassifier\n"
          ]
        },
        {
          "output_type": "display_data",
          "data": {
            "text/plain": [
              "<Figure size 432x288 with 1 Axes>"
            ],
            "image/png": "[encoded data removed]"
          },
          "metadata": {}
        },
        {
          "output_type": "stream",
          "name": "stdout",
          "text": [
            "Training KNeighborsClassifier finished in 0.00 sec\n",
            "----------------------------------------------------\n"
          ]
        }
      ],
      "source": [
        "models = [MultinomialNB(), DecisionTreeClassifier(), RandomForestClassifier(), LogisticRegression(), KNeighborsClassifier()]\n",
        "re = pipeline(models, training_data, y_train, testing_data, y_test)\n",
        "results = pd.DataFrame(re)\n",
        "results = results.reindex(columns = ['Algorithm', 'Accuracy: Test', 'Precision: Test', 'Recall: Test', 'F1 Score: Test',\n",
        "                          'Accuracy: Train', 'Precision: Train', 'Recall: Train', 'F1 Score: Train', 'fpr', 'tpr', 'roc_auc'])"
      ]
    },
    {
      "cell_type": "code",
      "execution_count": null,
      "metadata": {
        "id": "t6zDoEXs43kv"
      },
      "outputs": [],
      "source": [
        "results = results.reindex(columns = ['Algorithm', 'Accuracy: Test', 'Precision: Test', 'Recall: Test', 'F1 Score: Test',\n",
        "                          'Accuracy: Train', 'Precision: Train', 'Recall: Train', 'F1 Score: Train', 'fpr', 'tpr', 'roc_auc'])\n",
        "\n",
        "results.sort_values(by = 'F1 Score: Test', inplace = True, ascending = False)"
      ]
    },
    {
      "cell_type": "code",
      "execution_count": null,
      "metadata": {
        "colab": {
          "base_uri": "https://localhost:8080/",
          "height": 458
        },
        "id": "9Gcp-UC95QrR",
        "outputId": "a5866484-9c1d-4b3a-a540-3a098659a593"
      },
      "outputs": [
        {
          "output_type": "execute_result",
          "data": {
            "text/plain": [
              "                Algorithm  Accuracy: Test  Precision: Test  Recall: Test  \\\n",
              "0      LogisticRegression        0.720272         0.701333      0.660804   \n",
              "1           MultinomialNB        0.708947         0.684073      0.658291   \n",
              "2  RandomForestClassifier        0.705549         0.677835      0.660804   \n",
              "3  DecisionTreeClassifier        0.650057         0.610422      0.618090   \n",
              "4    KNeighborsClassifier        0.616082         0.572840      0.582915   \n",
              "\n",
              "   F1 Score: Test  Accuracy: Train  Precision: Train  Recall: Train  \\\n",
              "0        0.680466         0.802721          0.796407       0.754253   \n",
              "1        0.670935         0.817177          0.799618       0.792060   \n",
              "2        0.669211         0.986678          0.988579       0.981727   \n",
              "3        0.614232         0.986678          0.991071       0.979206   \n",
              "4        0.577833         0.740363          0.707483       0.720857   \n",
              "\n",
              "   F1 Score: Train                                                fpr  \\\n",
              "0         0.774757  [0.0, 0.0, 0.0, 0.002061855670103093, 0.002061...   \n",
              "1         0.795821  [0.0, 0.0, 0.0, 0.002061855670103093, 0.002061...   \n",
              "2         0.985141  [0.0, 0.0, 0.0, 0.0, 0.0, 0.0, 0.0020618556701...   \n",
              "3         0.985103  [0.0, 0.31958762886597936, 0.3237113402061856,...   \n",
              "4         0.714107  [0.0, 0.0288659793814433, 0.12989690721649486,...   \n",
              "\n",
              "                                                 tpr   roc_auc  \n",
              "0  [0.0, 0.002512562814070352, 0.0201005025125628...  0.785707  \n",
              "1  [0.0, 0.002512562814070352, 0.0326633165829145...  0.786826  \n",
              "2  [0.0, 0.002512562814070352, 0.0100502512562814...  0.765083  \n",
              "3  [0.0, 0.5904522613065326, 0.5979899497487438, ...  0.648112  \n",
              "4  [0.0, 0.06030150753768844, 0.23366834170854273...  0.641742  "
            ],
            "text/html": [
              "\n",
              "  <div id=\"df-08dc3b8f-7f3d-4952-9da7-3da833b9ff4b\">\n",
              "    <div class=\"colab-df-container\">\n",
              "      <div>\n",
              "<style scoped>\n",
              "    .dataframe tbody tr th:only-of-type {\n",
              "        vertical-align: middle;\n",
              "    }\n",
              "\n",
              "    .dataframe tbody tr th {\n",
              "        vertical-align: top;\n",
              "    }\n",
              "\n",
              "    .dataframe thead th {\n",
              "        text-align: right;\n",
              "    }\n",
              "</style>\n",
              "<table border=\"1\" class=\"dataframe\">\n",
              "  <thead>\n",
              "    <tr style=\"text-align: right;\">\n",
              "      <th></th>\n",
              "      <th>Algorithm</th>\n",
              "      <th>Accuracy: Test</th>\n",
              "      <th>Precision: Test</th>\n",
              "      <th>Recall: Test</th>\n",
              "      <th>F1 Score: Test</th>\n",
              "      <th>Accuracy: Train</th>\n",
              "      <th>Precision: Train</th>\n",
              "      <th>Recall: Train</th>\n",
              "      <th>F1 Score: Train</th>\n",
              "      <th>fpr</th>\n",
              "      <th>tpr</th>\n",
              "      <th>roc_auc</th>\n",
              "    </tr>\n",
              "  </thead>\n",
              "  <tbody>\n",
              "    <tr>\n",
              "      <th>0</th>\n",
              "      <td>LogisticRegression</td>\n",
              "      <td>0.720272</td>\n",
              "      <td>0.701333</td>\n",
              "      <td>0.660804</td>\n",
              "      <td>0.680466</td>\n",
              "      <td>0.802721</td>\n",
              "      <td>0.796407</td>\n",
              "      <td>0.754253</td>\n",
              "      <td>0.774757</td>\n",
              "      <td>[0.0, 0.0, 0.0, 0.002061855670103093, 0.002061...</td>\n",
              "      <td>[0.0, 0.002512562814070352, 0.0201005025125628...</td>\n",
              "      <td>0.785707</td>\n",
              "    </tr>\n",
              "    <tr>\n",
              "      <th>1</th>\n",
              "      <td>MultinomialNB</td>\n",
              "      <td>0.708947</td>\n",
              "      <td>0.684073</td>\n",
              "      <td>0.658291</td>\n",
              "      <td>0.670935</td>\n",
              "      <td>0.817177</td>\n",
              "      <td>0.799618</td>\n",
              "      <td>0.792060</td>\n",
              "      <td>0.795821</td>\n",
              "      <td>[0.0, 0.0, 0.0, 0.002061855670103093, 0.002061...</td>\n",
              "      <td>[0.0, 0.002512562814070352, 0.0326633165829145...</td>\n",
              "      <td>0.786826</td>\n",
              "    </tr>\n",
              "    <tr>\n",
              "      <th>2</th>\n",
              "      <td>RandomForestClassifier</td>\n",
              "      <td>0.705549</td>\n",
              "      <td>0.677835</td>\n",
              "      <td>0.660804</td>\n",
              "      <td>0.669211</td>\n",
              "      <td>0.986678</td>\n",
              "      <td>0.988579</td>\n",
              "      <td>0.981727</td>\n",
              "      <td>0.985141</td>\n",
              "      <td>[0.0, 0.0, 0.0, 0.0, 0.0, 0.0, 0.0020618556701...</td>\n",
              "      <td>[0.0, 0.002512562814070352, 0.0100502512562814...</td>\n",
              "      <td>0.765083</td>\n",
              "    </tr>\n",
              "    <tr>\n",
              "      <th>3</th>\n",
              "      <td>DecisionTreeClassifier</td>\n",
              "      <td>0.650057</td>\n",
              "      <td>0.610422</td>\n",
              "      <td>0.618090</td>\n",
              "      <td>0.614232</td>\n",
              "      <td>0.986678</td>\n",
              "      <td>0.991071</td>\n",
              "      <td>0.979206</td>\n",
              "      <td>0.985103</td>\n",
              "      <td>[0.0, 0.31958762886597936, 0.3237113402061856,...</td>\n",
              "      <td>[0.0, 0.5904522613065326, 0.5979899497487438, ...</td>\n",
              "      <td>0.648112</td>\n",
              "    </tr>\n",
              "    <tr>\n",
              "      <th>4</th>\n",
              "      <td>KNeighborsClassifier</td>\n",
              "      <td>0.616082</td>\n",
              "      <td>0.572840</td>\n",
              "      <td>0.582915</td>\n",
              "      <td>0.577833</td>\n",
              "      <td>0.740363</td>\n",
              "      <td>0.707483</td>\n",
              "      <td>0.720857</td>\n",
              "      <td>0.714107</td>\n",
              "      <td>[0.0, 0.0288659793814433, 0.12989690721649486,...</td>\n",
              "      <td>[0.0, 0.06030150753768844, 0.23366834170854273...</td>\n",
              "      <td>0.641742</td>\n",
              "    </tr>\n",
              "  </tbody>\n",
              "</table>\n",
              "</div>\n",
              "      <button class=\"colab-df-convert\" onclick=\"convertToInteractive('df-08dc3b8f-7f3d-4952-9da7-3da833b9ff4b')\"\n",
              "              title=\"Convert this dataframe to an interactive table.\"\n",
              "              style=\"display:none;\">\n",
              "        \n",
              "  <svg xmlns=\"http://www.w3.org/2000/svg\" height=\"24px\"viewBox=\"0 0 24 24\"\n",
              "       width=\"24px\">\n",
              "    <path d=\"M0 0h24v24H0V0z\" fill=\"none\"/>\n",
              "    <path d=\"M18.56 5.44l.94 2.06.94-2.06 2.06-.94-2.06-.94-.94-2.06-.94 2.06-2.06.94zm-11 1L8.5 8.5l.94-2.06 2.06-.94-2.06-.94L8.5 2.5l-.94 2.06-2.06.94zm10 10l.94 2.06.94-2.06 2.06-.94-2.06-.94-.94-2.06-.94 2.06-2.06.94z\"/><path d=\"M17.41 7.96l-1.37-1.37c-.4-.4-.92-.59-1.43-.59-.52 0-1.04.2-1.43.59L10.3 9.45l-7.72 7.72c-.78.78-.78 2.05 0 2.83L4 21.41c.39.39.9.59 1.41.59.51 0 1.02-.2 1.41-.59l7.78-7.78 2.81-2.81c.8-.78.8-2.07 0-2.86zM5.41 20L4 18.59l7.72-7.72 1.47 1.35L5.41 20z\"/>\n",
              "  </svg>\n",
              "      </button>\n",
              "      \n",
              "  <style>\n",
              "    .colab-df-container {\n",
              "      display:flex;\n",
              "      flex-wrap:wrap;\n",
              "      gap: 12px;\n",
              "    }\n",
              "\n",
              "    .colab-df-convert {\n",
              "      background-color: #E8F0FE;\n",
              "      border: none;\n",
              "      border-radius: 50%;\n",
              "      cursor: pointer;\n",
              "      display: none;\n",
              "      fill: #1967D2;\n",
              "      height: 32px;\n",
              "      padding: 0 0 0 0;\n",
              "      width: 32px;\n",
              "    }\n",
              "\n",
              "    .colab-df-convert:hover {\n",
              "      background-color: #E2EBFA;\n",
              "      box-shadow: 0px 1px 2px rgba(60, 64, 67, 0.3), 0px 1px 3px 1px rgba(60, 64, 67, 0.15);\n",
              "      fill: #174EA6;\n",
              "    }\n",
              "\n",
              "    [theme=dark] .colab-df-convert {\n",
              "      background-color: #3B4455;\n",
              "      fill: #D2E3FC;\n",
              "    }\n",
              "\n",
              "    [theme=dark] .colab-df-convert:hover {\n",
              "      background-color: #434B5C;\n",
              "      box-shadow: 0px 1px 3px 1px rgba(0, 0, 0, 0.15);\n",
              "      filter: drop-shadow(0px 1px 2px rgba(0, 0, 0, 0.3));\n",
              "      fill: #FFFFFF;\n",
              "    }\n",
              "  </style>\n",
              "\n",
              "      <script>\n",
              "        const buttonEl =\n",
              "          document.querySelector('#df-08dc3b8f-7f3d-4952-9da7-3da833b9ff4b button.colab-df-convert');\n",
              "        buttonEl.style.display =\n",
              "          google.colab.kernel.accessAllowed ? 'block' : 'none';\n",
              "\n",
              "        async function convertToInteractive(key) {\n",
              "          const element = document.querySelector('#df-08dc3b8f-7f3d-4952-9da7-3da833b9ff4b');\n",
              "          const dataTable =\n",
              "            await google.colab.kernel.invokeFunction('convertToInteractive',\n",
              "                                                     [key], {});\n",
              "          if (!dataTable) return;\n",
              "\n",
              "          const docLinkHtml = 'Like what you see? Visit the ' +\n",
              "            '<a target=\"_blank\" href=https://colab.research.google.com/notebooks/data_table.ipynb>data table notebook</a>'\n",
              "            + ' to learn more about interactive tables.';\n",
              "          element.innerHTML = '';\n",
              "          dataTable['output_type'] = 'display_data';\n",
              "          await google.colab.output.renderOutput(dataTable, element);\n",
              "          const docLink = document.createElement('div');\n",
              "          docLink.innerHTML = docLinkHtml;\n",
              "          element.appendChild(docLink);\n",
              "        }\n",
              "      </script>\n",
              "    </div>\n",
              "  </div>\n",
              "  "
            ]
          },
          "metadata": {},
          "execution_count": 23
        }
      ],
      "source": [
        "results.reset_index(drop = True)"
      ]
    },
    {
      "cell_type": "markdown",
      "source": [
        "**Perform the PCA**"
      ],
      "metadata": {
        "id": "J76VfFdfUW1a"
      }
    },
    {
      "cell_type": "code",
      "source": [
        "pca = PCA(n_components=2)\n",
        "PC = pca.fit_transform(df)\n",
        "pca_df = pd.DataFrame(data = PC, columns = ['PC1', 'PC2'])\n",
        " \n",
        "pca_df.head(6)"
      ],
      "metadata": {
        "colab": {
          "base_uri": "https://localhost:8080/",
          "height": 238
        },
        "id": "y-v9PXngTGA7",
        "outputId": "0fb8b807-3456-4416-cafb-f05a21761914"
      },
      "execution_count": null,
      "outputs": [
        {
          "output_type": "execute_result",
          "data": {
            "text/plain": [
              "        PC1       PC2\n",
              "0 -0.088443  0.142013\n",
              "1  0.203888  0.225029\n",
              "2  0.202309  0.188768\n",
              "3  0.123363 -0.065857\n",
              "4 -0.055549  0.052319\n",
              "5 -0.063700 -0.049018"
            ],
            "text/html": [
              "\n",
              "  <div id=\"df-cce708f9-005e-4f15-8a63-b98596b8c86a\">\n",
              "    <div class=\"colab-df-container\">\n",
              "      <div>\n",
              "<style scoped>\n",
              "    .dataframe tbody tr th:only-of-type {\n",
              "        vertical-align: middle;\n",
              "    }\n",
              "\n",
              "    .dataframe tbody tr th {\n",
              "        vertical-align: top;\n",
              "    }\n",
              "\n",
              "    .dataframe thead th {\n",
              "        text-align: right;\n",
              "    }\n",
              "</style>\n",
              "<table border=\"1\" class=\"dataframe\">\n",
              "  <thead>\n",
              "    <tr style=\"text-align: right;\">\n",
              "      <th></th>\n",
              "      <th>PC1</th>\n",
              "      <th>PC2</th>\n",
              "    </tr>\n",
              "  </thead>\n",
              "  <tbody>\n",
              "    <tr>\n",
              "      <th>0</th>\n",
              "      <td>-0.088443</td>\n",
              "      <td>0.142013</td>\n",
              "    </tr>\n",
              "    <tr>\n",
              "      <th>1</th>\n",
              "      <td>0.203888</td>\n",
              "      <td>0.225029</td>\n",
              "    </tr>\n",
              "    <tr>\n",
              "      <th>2</th>\n",
              "      <td>0.202309</td>\n",
              "      <td>0.188768</td>\n",
              "    </tr>\n",
              "    <tr>\n",
              "      <th>3</th>\n",
              "      <td>0.123363</td>\n",
              "      <td>-0.065857</td>\n",
              "    </tr>\n",
              "    <tr>\n",
              "      <th>4</th>\n",
              "      <td>-0.055549</td>\n",
              "      <td>0.052319</td>\n",
              "    </tr>\n",
              "    <tr>\n",
              "      <th>5</th>\n",
              "      <td>-0.063700</td>\n",
              "      <td>-0.049018</td>\n",
              "    </tr>\n",
              "  </tbody>\n",
              "</table>\n",
              "</div>\n",
              "      <button class=\"colab-df-convert\" onclick=\"convertToInteractive('df-cce708f9-005e-4f15-8a63-b98596b8c86a')\"\n",
              "              title=\"Convert this dataframe to an interactive table.\"\n",
              "              style=\"display:none;\">\n",
              "        \n",
              "  <svg xmlns=\"http://www.w3.org/2000/svg\" height=\"24px\"viewBox=\"0 0 24 24\"\n",
              "       width=\"24px\">\n",
              "    <path d=\"M0 0h24v24H0V0z\" fill=\"none\"/>\n",
              "    <path d=\"M18.56 5.44l.94 2.06.94-2.06 2.06-.94-2.06-.94-.94-2.06-.94 2.06-2.06.94zm-11 1L8.5 8.5l.94-2.06 2.06-.94-2.06-.94L8.5 2.5l-.94 2.06-2.06.94zm10 10l.94 2.06.94-2.06 2.06-.94-2.06-.94-.94-2.06-.94 2.06-2.06.94z\"/><path d=\"M17.41 7.96l-1.37-1.37c-.4-.4-.92-.59-1.43-.59-.52 0-1.04.2-1.43.59L10.3 9.45l-7.72 7.72c-.78.78-.78 2.05 0 2.83L4 21.41c.39.39.9.59 1.41.59.51 0 1.02-.2 1.41-.59l7.78-7.78 2.81-2.81c.8-.78.8-2.07 0-2.86zM5.41 20L4 18.59l7.72-7.72 1.47 1.35L5.41 20z\"/>\n",
              "  </svg>\n",
              "      </button>\n",
              "      \n",
              "  <style>\n",
              "    .colab-df-container {\n",
              "      display:flex;\n",
              "      flex-wrap:wrap;\n",
              "      gap: 12px;\n",
              "    }\n",
              "\n",
              "    .colab-df-convert {\n",
              "      background-color: #E8F0FE;\n",
              "      border: none;\n",
              "      border-radius: 50%;\n",
              "      cursor: pointer;\n",
              "      display: none;\n",
              "      fill: #1967D2;\n",
              "      height: 32px;\n",
              "      padding: 0 0 0 0;\n",
              "      width: 32px;\n",
              "    }\n",
              "\n",
              "    .colab-df-convert:hover {\n",
              "      background-color: #E2EBFA;\n",
              "      box-shadow: 0px 1px 2px rgba(60, 64, 67, 0.3), 0px 1px 3px 1px rgba(60, 64, 67, 0.15);\n",
              "      fill: #174EA6;\n",
              "    }\n",
              "\n",
              "    [theme=dark] .colab-df-convert {\n",
              "      background-color: #3B4455;\n",
              "      fill: #D2E3FC;\n",
              "    }\n",
              "\n",
              "    [theme=dark] .colab-df-convert:hover {\n",
              "      background-color: #434B5C;\n",
              "      box-shadow: 0px 1px 3px 1px rgba(0, 0, 0, 0.15);\n",
              "      filter: drop-shadow(0px 1px 2px rgba(0, 0, 0, 0.3));\n",
              "      fill: #FFFFFF;\n",
              "    }\n",
              "  </style>\n",
              "\n",
              "      <script>\n",
              "        const buttonEl =\n",
              "          document.querySelector('#df-cce708f9-005e-4f15-8a63-b98596b8c86a button.colab-df-convert');\n",
              "        buttonEl.style.display =\n",
              "          google.colab.kernel.accessAllowed ? 'block' : 'none';\n",
              "\n",
              "        async function convertToInteractive(key) {\n",
              "          const element = document.querySelector('#df-cce708f9-005e-4f15-8a63-b98596b8c86a');\n",
              "          const dataTable =\n",
              "            await google.colab.kernel.invokeFunction('convertToInteractive',\n",
              "                                                     [key], {});\n",
              "          if (!dataTable) return;\n",
              "\n",
              "          const docLinkHtml = 'Like what you see? Visit the ' +\n",
              "            '<a target=\"_blank\" href=https://colab.research.google.com/notebooks/data_table.ipynb>data table notebook</a>'\n",
              "            + ' to learn more about interactive tables.';\n",
              "          element.innerHTML = '';\n",
              "          dataTable['output_type'] = 'display_data';\n",
              "          await google.colab.output.renderOutput(dataTable, element);\n",
              "          const docLink = document.createElement('div');\n",
              "          docLink.innerHTML = docLinkHtml;\n",
              "          element.appendChild(docLink);\n",
              "        }\n",
              "      </script>\n",
              "    </div>\n",
              "  </div>\n",
              "  "
            ]
          },
          "metadata": {},
          "execution_count": 28
        }
      ]
    },
    {
      "cell_type": "markdown",
      "source": [
        "**Visualize the PCA**"
      ],
      "metadata": {
        "id": "YWJV807_UtLI"
      }
    },
    {
      "cell_type": "code",
      "source": [
        "sns.set()\n",
        " \n",
        "sns.lmplot(\n",
        "    x='PC1', \n",
        "    y='PC2', \n",
        "    data=pca_df,  \n",
        "    fit_reg=False, \n",
        "    legend=True\n",
        "    )\n",
        " \n",
        "plt.title('2D PCA Graph')\n",
        "plt.show()"
      ],
      "metadata": {
        "colab": {
          "base_uri": "https://localhost:8080/",
          "height": 381
        },
        "id": "V7lNW8_tUB5i",
        "outputId": "49a57c9f-95ad-48d0-e4ff-5f4519113adf"
      },
      "execution_count": null,
      "outputs": [
        {
          "output_type": "display_data",
          "data": {
            "text/plain": [
              "<Figure size 360x360 with 1 Axes>"
            ],
            "image/png": "[encoded data removed]"
          },
          "metadata": {}
        }
      ]
    },
    {
      "cell_type": "markdown",
      "source": [
        "**Visualize the Explained Variance by each Principal Component**"
      ],
      "metadata": {
        "id": "xlaEBedmU28y"
      }
    },
    {
      "cell_type": "code",
      "source": [
        "fig, ax = plt.subplots(nrows=1, ncols=1)\n",
        "ax.bar(\n",
        "    x      = np.arange(pca.n_components_) + 1,\n",
        "    height = pca.explained_variance_ratio_, \n",
        "    color= \"blue\"\n",
        ")\n",
        " \n",
        "for x, y in zip(np.arange(len(df.columns)) + 1, pca.explained_variance_ratio_):\n",
        "    label = round(y, 2)\n",
        "    ax.annotate(label, (x,y), textcoords=\"offset points\", xytext=(0,10), ha='center')\n",
        " \n",
        "ax.set_xticks(np.arange(pca.n_components_) + 1)\n",
        "ax.set_ylim(0, 1.1)\n",
        "ax.set_title('PCA Explained Variance Ratio')\n",
        "ax.set_xlabel('Principal Components')"
      ],
      "metadata": {
        "colab": {
          "base_uri": "https://localhost:8080/",
          "height": 318
        },
        "id": "_SF_XjLSUEyp",
        "outputId": "5d85f225-87d3-4b0b-80b3-ad571500d864"
      },
      "execution_count": null,
      "outputs": [
        {
          "output_type": "execute_result",
          "data": {
            "text/plain": [
              "Text(0.5, 0, 'Principal Components')"
            ]
          },
          "metadata": {},
          "execution_count": 31
        },
        {
          "output_type": "display_data",
          "data": {
            "text/plain": [
              "<Figure size 432x288 with 1 Axes>"
            ],
            "image/png": "[encoded data removed]"
          },
          "metadata": {}
        }
      ]
    },
    {
      "cell_type": "code",
      "source": [
        "df_new = pd.DataFrame(pca_df, columns=['PC1'])\n",
        " \n",
        "df_new.head(6)"
      ],
      "metadata": {
        "colab": {
          "base_uri": "https://localhost:8080/",
          "height": 238
        },
        "id": "kv2C5JScUSTB",
        "outputId": "ba4e8f39-ab57-4ee2-f70a-69c180cd2f22"
      },
      "execution_count": null,
      "outputs": [
        {
          "output_type": "execute_result",
          "data": {
            "text/plain": [
              "        PC1\n",
              "0 -0.088443\n",
              "1  0.203888\n",
              "2  0.202309\n",
              "3  0.123363\n",
              "4 -0.055549\n",
              "5 -0.063700"
            ],
            "text/html": [
              "\n",
              "  <div id=\"df-b005cf3c-7995-4624-8c96-622cdc3d2159\">\n",
              "    <div class=\"colab-df-container\">\n",
              "      <div>\n",
              "<style scoped>\n",
              "    .dataframe tbody tr th:only-of-type {\n",
              "        vertical-align: middle;\n",
              "    }\n",
              "\n",
              "    .dataframe tbody tr th {\n",
              "        vertical-align: top;\n",
              "    }\n",
              "\n",
              "    .dataframe thead th {\n",
              "        text-align: right;\n",
              "    }\n",
              "</style>\n",
              "<table border=\"1\" class=\"dataframe\">\n",
              "  <thead>\n",
              "    <tr style=\"text-align: right;\">\n",
              "      <th></th>\n",
              "      <th>PC1</th>\n",
              "    </tr>\n",
              "  </thead>\n",
              "  <tbody>\n",
              "    <tr>\n",
              "      <th>0</th>\n",
              "      <td>-0.088443</td>\n",
              "    </tr>\n",
              "    <tr>\n",
              "      <th>1</th>\n",
              "      <td>0.203888</td>\n",
              "    </tr>\n",
              "    <tr>\n",
              "      <th>2</th>\n",
              "      <td>0.202309</td>\n",
              "    </tr>\n",
              "    <tr>\n",
              "      <th>3</th>\n",
              "      <td>0.123363</td>\n",
              "    </tr>\n",
              "    <tr>\n",
              "      <th>4</th>\n",
              "      <td>-0.055549</td>\n",
              "    </tr>\n",
              "    <tr>\n",
              "      <th>5</th>\n",
              "      <td>-0.063700</td>\n",
              "    </tr>\n",
              "  </tbody>\n",
              "</table>\n",
              "</div>\n",
              "      <button class=\"colab-df-convert\" onclick=\"convertToInteractive('df-b005cf3c-7995-4624-8c96-622cdc3d2159')\"\n",
              "              title=\"Convert this dataframe to an interactive table.\"\n",
              "              style=\"display:none;\">\n",
              "        \n",
              "  <svg xmlns=\"http://www.w3.org/2000/svg\" height=\"24px\"viewBox=\"0 0 24 24\"\n",
              "       width=\"24px\">\n",
              "    <path d=\"M0 0h24v24H0V0z\" fill=\"none\"/>\n",
              "    <path d=\"M18.56 5.44l.94 2.06.94-2.06 2.06-.94-2.06-.94-.94-2.06-.94 2.06-2.06.94zm-11 1L8.5 8.5l.94-2.06 2.06-.94-2.06-.94L8.5 2.5l-.94 2.06-2.06.94zm10 10l.94 2.06.94-2.06 2.06-.94-2.06-.94-.94-2.06-.94 2.06-2.06.94z\"/><path d=\"M17.41 7.96l-1.37-1.37c-.4-.4-.92-.59-1.43-.59-.52 0-1.04.2-1.43.59L10.3 9.45l-7.72 7.72c-.78.78-.78 2.05 0 2.83L4 21.41c.39.39.9.59 1.41.59.51 0 1.02-.2 1.41-.59l7.78-7.78 2.81-2.81c.8-.78.8-2.07 0-2.86zM5.41 20L4 18.59l7.72-7.72 1.47 1.35L5.41 20z\"/>\n",
              "  </svg>\n",
              "      </button>\n",
              "      \n",
              "  <style>\n",
              "    .colab-df-container {\n",
              "      display:flex;\n",
              "      flex-wrap:wrap;\n",
              "      gap: 12px;\n",
              "    }\n",
              "\n",
              "    .colab-df-convert {\n",
              "      background-color: #E8F0FE;\n",
              "      border: none;\n",
              "      border-radius: 50%;\n",
              "      cursor: pointer;\n",
              "      display: none;\n",
              "      fill: #1967D2;\n",
              "      height: 32px;\n",
              "      padding: 0 0 0 0;\n",
              "      width: 32px;\n",
              "    }\n",
              "\n",
              "    .colab-df-convert:hover {\n",
              "      background-color: #E2EBFA;\n",
              "      box-shadow: 0px 1px 2px rgba(60, 64, 67, 0.3), 0px 1px 3px 1px rgba(60, 64, 67, 0.15);\n",
              "      fill: #174EA6;\n",
              "    }\n",
              "\n",
              "    [theme=dark] .colab-df-convert {\n",
              "      background-color: #3B4455;\n",
              "      fill: #D2E3FC;\n",
              "    }\n",
              "\n",
              "    [theme=dark] .colab-df-convert:hover {\n",
              "      background-color: #434B5C;\n",
              "      box-shadow: 0px 1px 3px 1px rgba(0, 0, 0, 0.15);\n",
              "      filter: drop-shadow(0px 1px 2px rgba(0, 0, 0, 0.3));\n",
              "      fill: #FFFFFF;\n",
              "    }\n",
              "  </style>\n",
              "\n",
              "      <script>\n",
              "        const buttonEl =\n",
              "          document.querySelector('#df-b005cf3c-7995-4624-8c96-622cdc3d2159 button.colab-df-convert');\n",
              "        buttonEl.style.display =\n",
              "          google.colab.kernel.accessAllowed ? 'block' : 'none';\n",
              "\n",
              "        async function convertToInteractive(key) {\n",
              "          const element = document.querySelector('#df-b005cf3c-7995-4624-8c96-622cdc3d2159');\n",
              "          const dataTable =\n",
              "            await google.colab.kernel.invokeFunction('convertToInteractive',\n",
              "                                                     [key], {});\n",
              "          if (!dataTable) return;\n",
              "\n",
              "          const docLinkHtml = 'Like what you see? Visit the ' +\n",
              "            '<a target=\"_blank\" href=https://colab.research.google.com/notebooks/data_table.ipynb>data table notebook</a>'\n",
              "            + ' to learn more about interactive tables.';\n",
              "          element.innerHTML = '';\n",
              "          dataTable['output_type'] = 'display_data';\n",
              "          await google.colab.output.renderOutput(dataTable, element);\n",
              "          const docLink = document.createElement('div');\n",
              "          docLink.innerHTML = docLinkHtml;\n",
              "          element.appendChild(docLink);\n",
              "        }\n",
              "      </script>\n",
              "    </div>\n",
              "  </div>\n",
              "  "
            ]
          },
          "metadata": {},
          "execution_count": 32
        }
      ]
    }
  ],
  "metadata": {
    "colab": {
      "provenance": []
    },
    "kernelspec": {
      "display_name": "Python 3",
      "name": "python3"
    },
    "language_info": {
      "name": "python"
    }
  },
  "nbformat": 4,
  "nbformat_minor": 0
}